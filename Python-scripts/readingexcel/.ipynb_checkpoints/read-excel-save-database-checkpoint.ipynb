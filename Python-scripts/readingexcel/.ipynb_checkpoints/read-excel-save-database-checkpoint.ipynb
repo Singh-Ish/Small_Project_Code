{
 "cells": [
  {
   "cell_type": "code",
   "execution_count": 1,
   "metadata": {},
   "outputs": [],
   "source": [
    "import pandas as pd\n",
    "import pymongo\n",
    "import json\n",
    "\n",
    "from pymongo import MongoClient\n",
    "\n"
   ]
  },
  {
   "cell_type": "code",
   "execution_count": 32,
   "metadata": {},
   "outputs": [
    {
     "data": {
      "text/html": [
       "<div>\n",
       "<style scoped>\n",
       "    .dataframe tbody tr th:only-of-type {\n",
       "        vertical-align: middle;\n",
       "    }\n",
       "\n",
       "    .dataframe tbody tr th {\n",
       "        vertical-align: top;\n",
       "    }\n",
       "\n",
       "    .dataframe thead th {\n",
       "        text-align: right;\n",
       "    }\n",
       "</style>\n",
       "<table border=\"1\" class=\"dataframe\">\n",
       "  <thead>\n",
       "    <tr style=\"text-align: right;\">\n",
       "      <th></th>\n",
       "      <th>groupNo</th>\n",
       "      <th>title</th>\n",
       "      <th>supervisor</th>\n",
       "      <th>coSupervisor</th>\n",
       "      <th>userId</th>\n",
       "      <th>lastName</th>\n",
       "      <th>firstName</th>\n",
       "      <th>assessmentStatus</th>\n",
       "    </tr>\n",
       "  </thead>\n",
       "  <tbody>\n",
       "    <tr>\n",
       "      <td>0</td>\n",
       "      <td>52.0</td>\n",
       "      <td>Crowd-source grocery store layouts for dynamic...</td>\n",
       "      <td>Green</td>\n",
       "      <td>NaN</td>\n",
       "      <td>1.0</td>\n",
       "      <td>McConnell</td>\n",
       "      <td>Jenna</td>\n",
       "      <td>0.0</td>\n",
       "    </tr>\n",
       "    <tr>\n",
       "      <td>1</td>\n",
       "      <td>52.0</td>\n",
       "      <td>Crowd-source grocery store layouts for dynamic...</td>\n",
       "      <td>Green</td>\n",
       "      <td>NaN</td>\n",
       "      <td>2.0</td>\n",
       "      <td>Warmington</td>\n",
       "      <td>Saundra</td>\n",
       "      <td>0.0</td>\n",
       "    </tr>\n",
       "    <tr>\n",
       "      <td>2</td>\n",
       "      <td>52.0</td>\n",
       "      <td>Crowd-source grocery store layouts for dynamic...</td>\n",
       "      <td>Green</td>\n",
       "      <td>NaN</td>\n",
       "      <td>3.0</td>\n",
       "      <td>Poll</td>\n",
       "      <td>Jennifer</td>\n",
       "      <td>0.0</td>\n",
       "    </tr>\n",
       "    <tr>\n",
       "      <td>3</td>\n",
       "      <td>27.0</td>\n",
       "      <td>Living the GA dream</td>\n",
       "      <td>Labiche</td>\n",
       "      <td>NaN</td>\n",
       "      <td>4.0</td>\n",
       "      <td>Hebert</td>\n",
       "      <td>Darlene</td>\n",
       "      <td>0.0</td>\n",
       "    </tr>\n",
       "    <tr>\n",
       "      <td>4</td>\n",
       "      <td>27.0</td>\n",
       "      <td>Living the GA dream</td>\n",
       "      <td>Labiche</td>\n",
       "      <td>NaN</td>\n",
       "      <td>5.0</td>\n",
       "      <td>Singh</td>\n",
       "      <td>Ishdeep</td>\n",
       "      <td>0.0</td>\n",
       "    </tr>\n",
       "    <tr>\n",
       "      <td>5</td>\n",
       "      <td>27.0</td>\n",
       "      <td>Living the GA dream</td>\n",
       "      <td>Labiche</td>\n",
       "      <td>NaN</td>\n",
       "      <td>5.0</td>\n",
       "      <td>Singh</td>\n",
       "      <td>Ishdeep</td>\n",
       "      <td>0.0</td>\n",
       "    </tr>\n",
       "    <tr>\n",
       "      <td>6</td>\n",
       "      <td>27.0</td>\n",
       "      <td>Living the GA dream</td>\n",
       "      <td>Labiche</td>\n",
       "      <td>NaN</td>\n",
       "      <td>5.0</td>\n",
       "      <td>Singh</td>\n",
       "      <td>Ishdeep</td>\n",
       "      <td>0.0</td>\n",
       "    </tr>\n",
       "  </tbody>\n",
       "</table>\n",
       "</div>"
      ],
      "text/plain": [
       "   groupNo                                              title supervisor  \\\n",
       "0     52.0  Crowd-source grocery store layouts for dynamic...      Green   \n",
       "1     52.0  Crowd-source grocery store layouts for dynamic...      Green   \n",
       "2     52.0  Crowd-source grocery store layouts for dynamic...      Green   \n",
       "3     27.0                                Living the GA dream    Labiche   \n",
       "4     27.0                                Living the GA dream    Labiche   \n",
       "5     27.0                                Living the GA dream    Labiche   \n",
       "6     27.0                                Living the GA dream    Labiche   \n",
       "\n",
       "   coSupervisor  userId    lastName firstName  assessmentStatus  \n",
       "0           NaN     1.0   McConnell     Jenna               0.0  \n",
       "1           NaN     2.0  Warmington   Saundra               0.0  \n",
       "2           NaN     3.0        Poll  Jennifer               0.0  \n",
       "3           NaN     4.0      Hebert   Darlene               0.0  \n",
       "4           NaN     5.0       Singh   Ishdeep               0.0  \n",
       "5           NaN     5.0       Singh   Ishdeep               0.0  \n",
       "6           NaN     5.0       Singh   Ishdeep               0.0  "
      ]
     },
     "execution_count": 32,
     "metadata": {},
     "output_type": "execute_result"
    }
   ],
   "source": [
    "df= pd.read_excel('project.xlsx')\n",
    "df = df.fillna(method='ffill') # handling the merged cell data \n",
    "df"
   ]
  },
  {
   "cell_type": "code",
   "execution_count": 36,
   "metadata": {},
   "outputs": [
    {
     "data": {
      "text/plain": [
       "groupNo              int32\n",
       "title               object\n",
       "supervisor          object\n",
       "coSupervisor        object\n",
       "userId               int32\n",
       "lastName            object\n",
       "firstName           object\n",
       "assessmentStatus      bool\n",
       "dtype: object"
      ]
     },
     "execution_count": 36,
     "metadata": {},
     "output_type": "execute_result"
    }
   ],
   "source": [
    "df.dtypes"
   ]
  },
  {
   "cell_type": "code",
   "execution_count": 34,
   "metadata": {},
   "outputs": [],
   "source": [
    "rfp.sort_values(\"groupNo\",inplace =True) # sorting data based on the group number "
   ]
  },
  {
   "cell_type": "code",
   "execution_count": 35,
   "metadata": {},
   "outputs": [],
   "source": [
    "\n",
    "df.groupNo = df.groupNo.astype(int)\n",
    "df.userId = df.userId.astype(int)\n",
    "df.coSupervisor = df.coSupervisor.astype(object)\n",
    "df.assessmentStatus = df.assessmentStatus.astype(int)"
   ]
  },
  {
   "cell_type": "code",
   "execution_count": 37,
   "metadata": {},
   "outputs": [
    {
     "data": {
      "text/html": [
       "<div>\n",
       "<style scoped>\n",
       "    .dataframe tbody tr th:only-of-type {\n",
       "        vertical-align: middle;\n",
       "    }\n",
       "\n",
       "    .dataframe tbody tr th {\n",
       "        vertical-align: top;\n",
       "    }\n",
       "\n",
       "    .dataframe thead th {\n",
       "        text-align: right;\n",
       "    }\n",
       "</style>\n",
       "<table border=\"1\" class=\"dataframe\">\n",
       "  <thead>\n",
       "    <tr style=\"text-align: right;\">\n",
       "      <th></th>\n",
       "      <th>groupNo</th>\n",
       "      <th>title</th>\n",
       "      <th>supervisor</th>\n",
       "      <th>coSupervisor</th>\n",
       "      <th>userId</th>\n",
       "      <th>lastName</th>\n",
       "      <th>firstName</th>\n",
       "      <th>assessmentStatus</th>\n",
       "    </tr>\n",
       "  </thead>\n",
       "  <tbody>\n",
       "    <tr>\n",
       "      <td>0</td>\n",
       "      <td>52</td>\n",
       "      <td>Crowd-source grocery store layouts for dynamic...</td>\n",
       "      <td>Green</td>\n",
       "      <td>NaN</td>\n",
       "      <td>1</td>\n",
       "      <td>McConnell</td>\n",
       "      <td>Jenna</td>\n",
       "      <td>False</td>\n",
       "    </tr>\n",
       "    <tr>\n",
       "      <td>1</td>\n",
       "      <td>52</td>\n",
       "      <td>Crowd-source grocery store layouts for dynamic...</td>\n",
       "      <td>Green</td>\n",
       "      <td>NaN</td>\n",
       "      <td>2</td>\n",
       "      <td>Warmington</td>\n",
       "      <td>Saundra</td>\n",
       "      <td>False</td>\n",
       "    </tr>\n",
       "    <tr>\n",
       "      <td>2</td>\n",
       "      <td>52</td>\n",
       "      <td>Crowd-source grocery store layouts for dynamic...</td>\n",
       "      <td>Green</td>\n",
       "      <td>NaN</td>\n",
       "      <td>3</td>\n",
       "      <td>Poll</td>\n",
       "      <td>Jennifer</td>\n",
       "      <td>False</td>\n",
       "    </tr>\n",
       "    <tr>\n",
       "      <td>3</td>\n",
       "      <td>27</td>\n",
       "      <td>Living the GA dream</td>\n",
       "      <td>Labiche</td>\n",
       "      <td>NaN</td>\n",
       "      <td>4</td>\n",
       "      <td>Hebert</td>\n",
       "      <td>Darlene</td>\n",
       "      <td>False</td>\n",
       "    </tr>\n",
       "    <tr>\n",
       "      <td>4</td>\n",
       "      <td>27</td>\n",
       "      <td>Living the GA dream</td>\n",
       "      <td>Labiche</td>\n",
       "      <td>NaN</td>\n",
       "      <td>5</td>\n",
       "      <td>Singh</td>\n",
       "      <td>Ishdeep</td>\n",
       "      <td>False</td>\n",
       "    </tr>\n",
       "  </tbody>\n",
       "</table>\n",
       "</div>"
      ],
      "text/plain": [
       "   groupNo                                              title supervisor  \\\n",
       "0       52  Crowd-source grocery store layouts for dynamic...      Green   \n",
       "1       52  Crowd-source grocery store layouts for dynamic...      Green   \n",
       "2       52  Crowd-source grocery store layouts for dynamic...      Green   \n",
       "3       27                                Living the GA dream    Labiche   \n",
       "4       27                                Living the GA dream    Labiche   \n",
       "\n",
       "  coSupervisor  userId    lastName firstName  assessmentStatus  \n",
       "0          NaN       1   McConnell     Jenna             False  \n",
       "1          NaN       2  Warmington   Saundra             False  \n",
       "2          NaN       3        Poll  Jennifer             False  \n",
       "3          NaN       4      Hebert   Darlene             False  \n",
       "4          NaN       5       Singh   Ishdeep             False  "
      ]
     },
     "execution_count": 37,
     "metadata": {},
     "output_type": "execute_result"
    }
   ],
   "source": [
    "df = df.drop_duplicates() # removing the duplication enteries and creating a new dataframe df \n",
    "df"
   ]
  },
  {
   "cell_type": "code",
   "execution_count": 38,
   "metadata": {},
   "outputs": [
    {
     "data": {
      "text/plain": [
       "['groupNo',\n",
       " 'title',\n",
       " 'supervisor',\n",
       " 'coSupervisor',\n",
       " 'userId',\n",
       " 'lastName',\n",
       " 'firstName',\n",
       " 'assessmentStatus']"
      ]
     },
     "execution_count": 38,
     "metadata": {},
     "output_type": "execute_result"
    }
   ],
   "source": [
    "list(df.columns)"
   ]
  },
  {
   "cell_type": "code",
   "execution_count": 39,
   "metadata": {},
   "outputs": [],
   "source": [
    "jf= df.to_json(orient='records') # converting datframes \n",
    "jf_data = json.loads(jf) # converting to dictionary \n",
    "jf_data\n",
    "\n",
    "with open('projects.json','w') as f:\n",
    "    json.dump(jf_data,f)"
   ]
  },
  {
   "cell_type": "code",
   "execution_count": 40,
   "metadata": {},
   "outputs": [],
   "source": [
    "#Connecting to Mondo db databse \n",
    "# mongo db settings \n",
    "client = MongoClient(\"mongodb://localhost:27017/\")\n",
    "mydb = client[\"assessment\"]\n",
    "db = mydb[\"projects\"]"
   ]
  },
  {
   "cell_type": "code",
   "execution_count": 41,
   "metadata": {},
   "outputs": [
    {
     "data": {
      "text/plain": [
       "[{'groupNo': 52,\n",
       "  'title': 'Crowd-source grocery store layouts for dynamically sorted shopping lists',\n",
       "  'supervisor': 'Green',\n",
       "  'coSupervisor': None,\n",
       "  'userId': 1,\n",
       "  'lastName': 'McConnell',\n",
       "  'firstName': 'Jenna',\n",
       "  'assessmentStatus': False},\n",
       " {'groupNo': 52,\n",
       "  'title': 'Crowd-source grocery store layouts for dynamically sorted shopping lists',\n",
       "  'supervisor': 'Green',\n",
       "  'coSupervisor': None,\n",
       "  'userId': 2,\n",
       "  'lastName': 'Warmington',\n",
       "  'firstName': 'Saundra',\n",
       "  'assessmentStatus': False},\n",
       " {'groupNo': 52,\n",
       "  'title': 'Crowd-source grocery store layouts for dynamically sorted shopping lists',\n",
       "  'supervisor': 'Green',\n",
       "  'coSupervisor': None,\n",
       "  'userId': 3,\n",
       "  'lastName': 'Poll',\n",
       "  'firstName': 'Jennifer',\n",
       "  'assessmentStatus': False},\n",
       " {'groupNo': 27,\n",
       "  'title': 'Living the GA dream',\n",
       "  'supervisor': 'Labiche',\n",
       "  'coSupervisor': None,\n",
       "  'userId': 4,\n",
       "  'lastName': 'Hebert',\n",
       "  'firstName': 'Darlene',\n",
       "  'assessmentStatus': False},\n",
       " {'groupNo': 27,\n",
       "  'title': 'Living the GA dream',\n",
       "  'supervisor': 'Labiche',\n",
       "  'coSupervisor': None,\n",
       "  'userId': 5,\n",
       "  'lastName': 'Singh',\n",
       "  'firstName': 'Ishdeep',\n",
       "  'assessmentStatus': False}]"
      ]
     },
     "execution_count": 41,
     "metadata": {},
     "output_type": "execute_result"
    }
   ],
   "source": [
    "jf_data"
   ]
  },
  {
   "cell_type": "code",
   "execution_count": 42,
   "metadata": {},
   "outputs": [],
   "source": [
    "# saving to mongo db database \n",
    "\n",
    "for r in jf_data:\n",
    "    rpush = db.insert_one(r)\n",
    "    #print('multiple posts:{0}'.format(rpush.id))\n",
    "# how to avoid getting duplicates values in database ??"
   ]
  },
  {
   "cell_type": "code",
   "execution_count": null,
   "metadata": {},
   "outputs": [],
   "source": [
    "\n",
    "        "
   ]
  },
  {
   "cell_type": "code",
   "execution_count": 80,
   "metadata": {},
   "outputs": [],
   "source": [
    "# creating a query\n",
    "my_query = {\"Group No\": 52}"
   ]
  },
  {
   "cell_type": "code",
   "execution_count": 81,
   "metadata": {},
   "outputs": [
    {
     "ename": "NameError",
     "evalue": "name 'mycol' is not defined",
     "output_type": "error",
     "traceback": [
      "\u001b[1;31m---------------------------------------------------------------------------\u001b[0m",
      "\u001b[1;31mNameError\u001b[0m                                 Traceback (most recent call last)",
      "\u001b[1;32m<ipython-input-81-1633c950796f>\u001b[0m in \u001b[0;36m<module>\u001b[1;34m\u001b[0m\n\u001b[0;32m      1\u001b[0m \u001b[1;31m# quering the database for matching values\u001b[0m\u001b[1;33m\u001b[0m\u001b[1;33m\u001b[0m\u001b[1;33m\u001b[0m\u001b[0m\n\u001b[1;32m----> 2\u001b[1;33m \u001b[0mmydoc\u001b[0m \u001b[1;33m=\u001b[0m \u001b[0mmycol\u001b[0m\u001b[1;33m.\u001b[0m\u001b[0mfind\u001b[0m\u001b[1;33m(\u001b[0m\u001b[0mmy_query\u001b[0m\u001b[1;33m)\u001b[0m\u001b[1;33m\u001b[0m\u001b[1;33m\u001b[0m\u001b[0m\n\u001b[0m\u001b[0;32m      3\u001b[0m \u001b[0mmydoc\u001b[0m\u001b[1;33m\u001b[0m\u001b[1;33m\u001b[0m\u001b[0m\n",
      "\u001b[1;31mNameError\u001b[0m: name 'mycol' is not defined"
     ]
    }
   ],
   "source": [
    "# quering the database for matching values \n",
    "mydoc = mycol.find(my_query)\n",
    "mydoc"
   ]
  },
  {
   "cell_type": "code",
   "execution_count": 35,
   "metadata": {},
   "outputs": [
    {
     "name": "stdout",
     "output_type": "stream",
     "text": [
      "{'_id': ObjectId('5e502c182498f99b0226a2b0'), 'Group No': 52.0, 'Title': 'Crowd-source grocery store layouts for dynamically sorted shopping lists', 'Supervisor': 'Green', 'Co-supervisor': None, 'ID Number': 1.0, 'Last name': 'McConnell', 'First name': 'Jenna', 'Assessment Status': 0.0}\n",
      "{'_id': ObjectId('5e502c182498f99b0226a2b1'), 'Group No': 52.0, 'Title': 'Crowd-source grocery store layouts for dynamically sorted shopping lists', 'Supervisor': 'Green', 'Co-supervisor': None, 'ID Number': 2.0, 'Last name': 'Warmington', 'First name': 'Saundra', 'Assessment Status': 0.0}\n",
      "{'_id': ObjectId('5e502c182498f99b0226a2b2'), 'Group No': 52.0, 'Title': 'Crowd-source grocery store layouts for dynamically sorted shopping lists', 'Supervisor': 'Green', 'Co-supervisor': None, 'ID Number': 3.0, 'Last name': 'Poll', 'First name': 'Jennifer', 'Assessment Status': 0.0}\n"
     ]
    }
   ],
   "source": [
    "# printing the matched values \n",
    "\n",
    "for x in mydoc:\n",
    "   print(x) "
   ]
  },
  {
   "cell_type": "code",
   "execution_count": 133,
   "metadata": {},
   "outputs": [],
   "source": [
    "# database saving in SQL \n",
    "import mysql.connector as mysql \n"
   ]
  },
  {
   "cell_type": "code",
   "execution_count": 46,
   "metadata": {},
   "outputs": [
    {
     "ename": "NameError",
     "evalue": "name 'mysql' is not defined",
     "output_type": "error",
     "traceback": [
      "\u001b[1;31m---------------------------------------------------------------------------\u001b[0m",
      "\u001b[1;31mNameError\u001b[0m                                 Traceback (most recent call last)",
      "\u001b[1;32m<ipython-input-46-57ba5cb5a63d>\u001b[0m in \u001b[0;36m<module>\u001b[1;34m\u001b[0m\n\u001b[0;32m      1\u001b[0m \u001b[1;31m# database configuration details\u001b[0m\u001b[1;33m\u001b[0m\u001b[1;33m\u001b[0m\u001b[1;33m\u001b[0m\u001b[0m\n\u001b[0;32m      2\u001b[0m \u001b[1;33m\u001b[0m\u001b[0m\n\u001b[1;32m----> 3\u001b[1;33m db = mysql.connect(\n\u001b[0m\u001b[0;32m      4\u001b[0m   \u001b[0mhost\u001b[0m\u001b[1;33m=\u001b[0m\u001b[1;34m\"localhost\"\u001b[0m\u001b[1;33m,\u001b[0m\u001b[1;33m\u001b[0m\u001b[1;33m\u001b[0m\u001b[0m\n\u001b[0;32m      5\u001b[0m   \u001b[0muser\u001b[0m\u001b[1;33m=\u001b[0m\u001b[1;34m\"root\"\u001b[0m\u001b[1;33m,\u001b[0m\u001b[1;33m\u001b[0m\u001b[1;33m\u001b[0m\u001b[0m\n",
      "\u001b[1;31mNameError\u001b[0m: name 'mysql' is not defined"
     ]
    }
   ],
   "source": [
    "# database configuration details \n",
    "\n",
    "db = mysql.connect(\n",
    "  host=\"localhost\",\n",
    "  user=\"root\",\n",
    "  passwd=\"root123\"\n",
    ")\n"
   ]
  },
  {
   "cell_type": "code",
   "execution_count": 142,
   "metadata": {},
   "outputs": [
    {
     "name": "stdout",
     "output_type": "stream",
     "text": [
      "Database(MongoClient(host=['localhost:27017'], document_class=dict, tz_aware=False, connect=True), 'assessment_test')\n"
     ]
    }
   ],
   "source": [
    "print(db)"
   ]
  },
  {
   "cell_type": "code",
   "execution_count": 140,
   "metadata": {},
   "outputs": [
    {
     "ename": "TypeError",
     "evalue": "'Collection' object is not callable. If you meant to call the 'cursor' method on a 'Database' object it is failing because no such method exists.",
     "output_type": "error",
     "traceback": [
      "\u001b[1;31m---------------------------------------------------------------------------\u001b[0m",
      "\u001b[1;31mTypeError\u001b[0m                                 Traceback (most recent call last)",
      "\u001b[1;32m<ipython-input-140-7935eb3a44e4>\u001b[0m in \u001b[0;36m<module>\u001b[1;34m\u001b[0m\n\u001b[1;32m----> 1\u001b[1;33m \u001b[0mmycursor\u001b[0m \u001b[1;33m=\u001b[0m \u001b[0mmydb\u001b[0m\u001b[1;33m.\u001b[0m\u001b[0mcursor\u001b[0m\u001b[1;33m(\u001b[0m\u001b[1;33m)\u001b[0m\u001b[1;33m\u001b[0m\u001b[1;33m\u001b[0m\u001b[0m\n\u001b[0m\u001b[0;32m      2\u001b[0m \u001b[0mmycursor\u001b[0m\u001b[1;33m.\u001b[0m\u001b[0mexecute\u001b[0m\u001b[1;33m(\u001b[0m\u001b[1;34m\"CREATE DATABASE sAssessment\"\u001b[0m\u001b[1;33m)\u001b[0m\u001b[1;33m\u001b[0m\u001b[1;33m\u001b[0m\u001b[0m\n",
      "\u001b[1;32mC:\\ProgramData\\Anaconda3\\lib\\site-packages\\pymongo\\collection.py\u001b[0m in \u001b[0;36m__call__\u001b[1;34m(self, *args, **kwargs)\u001b[0m\n\u001b[0;32m   3337\u001b[0m                             \u001b[1;34m\"object it is failing because no such method \"\u001b[0m\u001b[1;33m\u001b[0m\u001b[1;33m\u001b[0m\u001b[0m\n\u001b[0;32m   3338\u001b[0m                             \u001b[1;34m\"exists.\"\u001b[0m \u001b[1;33m%\u001b[0m\u001b[1;33m\u001b[0m\u001b[1;33m\u001b[0m\u001b[0m\n\u001b[1;32m-> 3339\u001b[1;33m                             self.__name)\n\u001b[0m\u001b[0;32m   3340\u001b[0m         raise TypeError(\"'Collection' object is not callable. If you meant to \"\n\u001b[0;32m   3341\u001b[0m                         \u001b[1;34m\"call the '%s' method on a 'Collection' object it is \"\u001b[0m\u001b[1;33m\u001b[0m\u001b[1;33m\u001b[0m\u001b[0m\n",
      "\u001b[1;31mTypeError\u001b[0m: 'Collection' object is not callable. If you meant to call the 'cursor' method on a 'Database' object it is failing because no such method exists."
     ]
    }
   ],
   "source": [
    "mycursor = mydb.cursor()\n",
    "mycursor.execute(\"CREATE DATABASE sAssessment\")"
   ]
  },
  {
   "cell_type": "code",
   "execution_count": 143,
   "metadata": {},
   "outputs": [],
   "source": [
    "# html table using python \n",
    "\n",
    "from flask_table import Table,Col\n"
   ]
  },
  {
   "cell_type": "code",
   "execution_count": 145,
   "metadata": {},
   "outputs": [
    {
     "name": "stdout",
     "output_type": "stream",
     "text": [
      "<table>\n",
      "<thead><tr><th>Name</th><th>Description</th></tr></thead>\n",
      "<tbody>\n",
      "<tr><td>Name1</td><td>Description1</td></tr>\n",
      "<tr><td>Name2</td><td>Description2</td></tr>\n",
      "<tr><td>Name3</td><td>Description3</td></tr>\n",
      "</tbody>\n",
      "</table>\n"
     ]
    }
   ],
   "source": [
    "class ItemTable(Table):\n",
    "    name = Col('Name')\n",
    "    description = Col('Description')\n",
    "    \n",
    "# Get some objects\n",
    "class Item(object):\n",
    "    def __init__(self, name, description):\n",
    "        self.name = name\n",
    "        self.description = description\n",
    "        \n",
    "items = [Item('Name1', 'Description1'),\n",
    "         Item('Name2', 'Description2'),\n",
    "         Item('Name3', 'Description3')]\n",
    "# Or, equivalently, some dicts\n",
    "items = [dict(name='Name1', description='Description1'),\n",
    "         dict(name='Name2', description='Description2'),\n",
    "         dict(name='Name3', description='Description3')]\n",
    "\n",
    "# Or, more likely, load items from your database with something like\n",
    "#items = ItemModel.query.all()\n",
    "\n",
    "# Populate the table\n",
    "table = ItemTable(items)\n",
    "\n",
    "# Print the html\n",
    "print(table.__html__())\n",
    "# or just {{ table }} from within a Jinja template"
   ]
  },
  {
   "cell_type": "code",
   "execution_count": 19,
   "metadata": {},
   "outputs": [
    {
     "data": {
      "text/plain": [
       "'{\"Instructions \": {\"Beginning\": \"Weak understanding; works is inaccurate and significant redirection is required. Directions are disorganized, inaccurate and incomplete.\", \"Developing\": \"Basic understanding; main ideas are followed but missing detail. Directions are adequate but incomplete; sufficiently conveys basic concepts, but lacks accuracy and specificity. \", \"Accomplished\": \"Mostly understood; work is largely accurate and little redirection is required. Directions are organized and appropriate; language is clear and mostly error-free.\", \"Exemplary\": \"Fully understood; work is focused and accurate; no redirection is  required. Directions are cohesive and easy to follow; language is concise, specific and descriptive. \", \"metrics\": \"Instructions \"}, \"Self-awareness \": {\"Beginning\": \"Not focused on studies; no clear career goals or extracurricular interests; no attempt to self-direct or self-evaluate; no curiosity or initiative toward new subjects; unaware of the need to stay current; does not recognize personal limitations and the need to seek advice; constructive feedback is not well received.\", \"Developing\": \"Basic academic and extracurricular efforts are being put forth; vague career goals; limited self-direction and self-evaluation; minimal curiosity and initiative toward new subjects; basic awareness of the need to stay current; limited awareness of personal limitations and when to seek advice; limited ability to handle constructive feedback.\", \"Accomplished\": \"Good academic and extracurricular efforts; clear career goals; engages in self-direction and self-evaluation; curiosity and initiative toward new subjects is evident; understands the need to stay current; aware of personal limitations and when to seek advice; constructive feedback is well received.\", \"Exemplary\": \"Excels academically and in extracurricular activities; clear career goals with detailed plans; actively engages in self-direction and self-evaluation; high level of curiosity and initiative toward new subjects; thoroughly engaged in the need to stay current; accurate assessment of personal limitations when to seek advice; skillfully accepts and uses constructive feedback.\", \"metrics\": \"Self-awareness \"}, \"Information from relevant publications\": {\"Beginning\": \"Reads only assigned materials; is not aware of relevant publications; does not look beyond information provided in class; makes little effort to independently find additional information.  \", \"Developing\": \"Minimal consultation with outside materials; limited awareness of relevant publications; does not explore sources in details and often stops at first source without concern for credibility.\", \"Accomplished\": \"Regularly goes beyond assigned materials; reasonable awareness of relevant publications; able to independently locate required information and assess credibility of sources.\", \"Exemplary\": \"Actively seeks out additional materials; extensive knowledge of relevant publications; finds advanced information to further personal learning; thoroughly considers multiple sources with accurate assessment of both relevance and credibility.\", \"metrics\": \"Information from relevant publications\"}}'"
      ]
     },
     "execution_count": 19,
     "metadata": {},
     "output_type": "execute_result"
    }
   ],
   "source": [
    "# reading the rubics and saving to database \n",
    "ru = pd.read_excel('rubicsMetrix.xlsx',index_col=[0])\n",
    "ru['metrics'] = ru.index\n",
    "ru=ru.T\n",
    "rud = ru.to_dict()\n",
    "rud\n",
    "rd = json.dumps(rud)\n",
    "rd"
   ]
  },
  {
   "cell_type": "code",
   "execution_count": 20,
   "metadata": {},
   "outputs": [
    {
     "data": {
      "text/plain": [
       "[{'metric': 'Instructions ',\n",
       "  'Beginning': 'Weak understanding; works is inaccurate and significant redirection is required. Directions are disorganized, inaccurate and incomplete.',\n",
       "  'Developing': 'Basic understanding; main ideas are followed but missing detail. Directions are adequate but incomplete; sufficiently conveys basic concepts, but lacks accuracy and specificity. ',\n",
       "  'Accomplished': 'Mostly understood; work is largely accurate and little redirection is required. Directions are organized and appropriate; language is clear and mostly error-free.',\n",
       "  'Exemplary': 'Fully understood; work is focused and accurate; no redirection is  required. Directions are cohesive and easy to follow; language is concise, specific and descriptive. '},\n",
       " {'metric': 'Self-awareness ',\n",
       "  'Beginning': 'Not focused on studies; no clear career goals or extracurricular interests; no attempt to self-direct or self-evaluate; no curiosity or initiative toward new subjects; unaware of the need to stay current; does not recognize personal limitations and the need to seek advice; constructive feedback is not well received.',\n",
       "  'Developing': 'Basic academic and extracurricular efforts are being put forth; vague career goals; limited self-direction and self-evaluation; minimal curiosity and initiative toward new subjects; basic awareness of the need to stay current; limited awareness of personal limitations and when to seek advice; limited ability to handle constructive feedback.',\n",
       "  'Accomplished': 'Good academic and extracurricular efforts; clear career goals; engages in self-direction and self-evaluation; curiosity and initiative toward new subjects is evident; understands the need to stay current; aware of personal limitations and when to seek advice; constructive feedback is well received.',\n",
       "  'Exemplary': 'Excels academically and in extracurricular activities; clear career goals with detailed plans; actively engages in self-direction and self-evaluation; high level of curiosity and initiative toward new subjects; thoroughly engaged in the need to stay current; accurate assessment of personal limitations when to seek advice; skillfully accepts and uses constructive feedback.'},\n",
       " {'metric': 'Information from relevant publications',\n",
       "  'Beginning': 'Reads only assigned materials; is not aware of relevant publications; does not look beyond information provided in class; makes little effort to independently find additional information.  ',\n",
       "  'Developing': 'Minimal consultation with outside materials; limited awareness of relevant publications; does not explore sources in details and often stops at first source without concern for credibility.',\n",
       "  'Accomplished': 'Regularly goes beyond assigned materials; reasonable awareness of relevant publications; able to independently locate required information and assess credibility of sources.',\n",
       "  'Exemplary': 'Actively seeks out additional materials; extensive knowledge of relevant publications; finds advanced information to further personal learning; thoroughly considers multiple sources with accurate assessment of both relevance and credibility.'}]"
      ]
     },
     "execution_count": 20,
     "metadata": {},
     "output_type": "execute_result"
    }
   ],
   "source": [
    "jf= rub.to_json(orient='records') # converting datframes \n",
    "jf_data = json.loads(jf) # converting to dictionary \n",
    "jf_data\n"
   ]
  },
  {
   "cell_type": "code",
   "execution_count": 21,
   "metadata": {},
   "outputs": [],
   "source": [
    "# pushing rubics to mongo db database \n",
    "for r in jf_data:\n",
    "    rpush = mycol.insert_one(r)"
   ]
  },
  {
   "cell_type": "code",
   "execution_count": 18,
   "metadata": {},
   "outputs": [
    {
     "data": {
      "text/plain": [
       "['metric', 'Beginning', 'Developing', 'Accomplished', 'Exemplary']"
      ]
     },
     "execution_count": 18,
     "metadata": {},
     "output_type": "execute_result"
    }
   ],
   "source": []
  },
  {
   "cell_type": "code",
   "execution_count": 55,
   "metadata": {},
   "outputs": [
    {
     "data": {
      "text/html": [
       "<div>\n",
       "<style scoped>\n",
       "    .dataframe tbody tr th:only-of-type {\n",
       "        vertical-align: middle;\n",
       "    }\n",
       "\n",
       "    .dataframe tbody tr th {\n",
       "        vertical-align: top;\n",
       "    }\n",
       "\n",
       "    .dataframe thead th {\n",
       "        text-align: right;\n",
       "    }\n",
       "</style>\n",
       "<table border=\"1\" class=\"dataframe\">\n",
       "  <thead>\n",
       "    <tr style=\"text-align: right;\">\n",
       "      <th></th>\n",
       "      <th>Indicator</th>\n",
       "      <th>Beginning</th>\n",
       "      <th>Developing</th>\n",
       "      <th>Accomplished</th>\n",
       "      <th>Exemplary</th>\n",
       "    </tr>\n",
       "  </thead>\n",
       "  <tbody>\n",
       "    <tr>\n",
       "      <td>0</td>\n",
       "      <td>6.1 Personal and group time management</td>\n",
       "      <td>Deadlines often missed. Several projects or as...</td>\n",
       "      <td>Some deadlines missed. Some tasks or assignmen...</td>\n",
       "      <td>No important deadlines missed. Few tasks or as...</td>\n",
       "      <td>No deadlines missed. Tasks and assignments alw...</td>\n",
       "    </tr>\n",
       "    <tr>\n",
       "      <td>1</td>\n",
       "      <td>6.2 Group culture, group dynamics</td>\n",
       "      <td>Not dependable. Little or no trust from teamma...</td>\n",
       "      <td>Usually dependable and trusted by teammates. M...</td>\n",
       "      <td>Dependable and trusted by teammates. Ethical o...</td>\n",
       "      <td>Dependable and trusted by teammates. Ethical a...</td>\n",
       "    </tr>\n",
       "    <tr>\n",
       "      <td>2</td>\n",
       "      <td>6.3 Leadership: initiative and mentoring, area...</td>\n",
       "      <td>No initiative. No effort to mentor group membe...</td>\n",
       "      <td>Some initiative. Some effort to mentor group m...</td>\n",
       "      <td>Good initiative and self-motivation. Regular e...</td>\n",
       "      <td>Self-motivated, with regular demonstration of ...</td>\n",
       "    </tr>\n",
       "  </tbody>\n",
       "</table>\n",
       "</div>"
      ],
      "text/plain": [
       "                                           Indicator  \\\n",
       "0             6.1 Personal and group time management   \n",
       "1                  6.2 Group culture, group dynamics   \n",
       "2  6.3 Leadership: initiative and mentoring, area...   \n",
       "\n",
       "                                           Beginning  \\\n",
       "0  Deadlines often missed. Several projects or as...   \n",
       "1  Not dependable. Little or no trust from teamma...   \n",
       "2  No initiative. No effort to mentor group membe...   \n",
       "\n",
       "                                          Developing  \\\n",
       "0  Some deadlines missed. Some tasks or assignmen...   \n",
       "1  Usually dependable and trusted by teammates. M...   \n",
       "2  Some initiative. Some effort to mentor group m...   \n",
       "\n",
       "                                        Accomplished  \\\n",
       "0  No important deadlines missed. Few tasks or as...   \n",
       "1  Dependable and trusted by teammates. Ethical o...   \n",
       "2  Good initiative and self-motivation. Regular e...   \n",
       "\n",
       "                                           Exemplary  \n",
       "0  No deadlines missed. Tasks and assignments alw...  \n",
       "1  Dependable and trusted by teammates. Ethical a...  \n",
       "2  Self-motivated, with regular demonstration of ...  "
      ]
     },
     "execution_count": 55,
     "metadata": {},
     "output_type": "execute_result"
    }
   ],
   "source": [
    "ru = pd.read_excel('rubicsMetrix.xlsx')\n",
    "#ru['metrics'] = ru.index\n",
    "ru\n"
   ]
  },
  {
   "cell_type": "code",
   "execution_count": 56,
   "metadata": {},
   "outputs": [
    {
     "data": {
      "text/plain": [
       "pandas.core.frame.DataFrame"
      ]
     },
     "execution_count": 56,
     "metadata": {},
     "output_type": "execute_result"
    }
   ],
   "source": [
    "type(ru)"
   ]
  },
  {
   "cell_type": "raw",
   "metadata": {},
   "source": [
    "list(data.columns)"
   ]
  },
  {
   "cell_type": "code",
   "execution_count": 57,
   "metadata": {},
   "outputs": [
    {
     "data": {
      "text/plain": [
       "['Indicator', 'Beginning', 'Developing', 'Accomplished', 'Exemplary']"
      ]
     },
     "execution_count": 57,
     "metadata": {},
     "output_type": "execute_result"
    }
   ],
   "source": [
    "count(ru)\n"
   ]
  },
  {
   "cell_type": "code",
   "execution_count": 59,
   "metadata": {},
   "outputs": [
    {
     "data": {
      "text/plain": [
       "'Deadlines often missed. Several projects or assignments appear hurried or inadequately addressed. No evidence of time management planning.'"
      ]
     },
     "execution_count": 59,
     "metadata": {},
     "output_type": "execute_result"
    }
   ],
   "source": [
    "ru['Beginning'][0]"
   ]
  },
  {
   "cell_type": "code",
   "execution_count": 35,
   "metadata": {},
   "outputs": [
    {
     "data": {
      "text/plain": [
       "['Indicator',\n",
       " 'Level 1: Beginning',\n",
       " 'Level 2: Developing',\n",
       " 'Level 3: Accomplished',\n",
       " 'Level 4: Exemplary']"
      ]
     },
     "execution_count": 35,
     "metadata": {},
     "output_type": "execute_result"
    }
   ],
   "source": [
    "list(ru.columns)"
   ]
  },
  {
   "cell_type": "code",
   "execution_count": 60,
   "metadata": {},
   "outputs": [],
   "source": [
    "ru.reset_index(inplace=False)\n",
    "data_dict = ru.to_dict(\"records\")\n",
    "    "
   ]
  },
  {
   "cell_type": "code",
   "execution_count": 61,
   "metadata": {},
   "outputs": [
    {
     "data": {
      "text/plain": [
       "[{'Indicator': '6.1 Personal and group time management',\n",
       "  'Beginning': 'Deadlines often missed. Several projects or assignments appear hurried or inadequately addressed. No evidence of time management planning.',\n",
       "  'Developing': 'Some deadlines missed. Some tasks or assignments appear hurried or inadequately addressed. Some evidence of time management planning.',\n",
       "  'Accomplished': 'No important deadlines missed. Few tasks or assignments appear hurried or inadequately addressed. Good time management planning.',\n",
       "  'Exemplary': 'No deadlines missed. Tasks and assignments always excellently prepared and presented. Tasks occasionally completed ahead of schedule. Leadership in time planning.'},\n",
       " {'Indicator': '6.2 Group culture, group dynamics',\n",
       "  'Beginning': 'Not dependable. Little or no trust from teammates. Dishonest or evasive interactions with teammates. Poor conflict resolution.',\n",
       "  'Developing': 'Usually dependable and trusted by teammates. Mostly ethical behavior towards project and teammates. Minor conflicts.',\n",
       "  'Accomplished': 'Dependable and trusted by teammates. Ethical open interactions with teammates. Good conflict resolution.',\n",
       "  'Exemplary': 'Dependable and trusted by teammates. Ethical and open interactions with teammates. Leads team in ethical and responsive behavior. Leadership in conflict resolution.'},\n",
       " {'Indicator': '6.3 Leadership: initiative and mentoring, areas of expertise, and interdisciplinary teams',\n",
       "  'Beginning': 'No initiative. No effort to mentor group members or take ownership of an area of expertise.',\n",
       "  'Developing': 'Some initiative. Some effort to mentor group members and take ownership of an area of expertise.',\n",
       "  'Accomplished': 'Good initiative and self-motivation. Regular effort to mentor group members. Clear command of an area of expertise.',\n",
       "  'Exemplary': 'Self-motivated, with regular demonstration of initiative. Constructively directs other team members and helps them to improve at their tasks. High degree of knowledge in an area of expertise.'}]"
      ]
     },
     "execution_count": 61,
     "metadata": {},
     "output_type": "execute_result"
    }
   ],
   "source": [
    "data_dict"
   ]
  },
  {
   "cell_type": "code",
   "execution_count": 63,
   "metadata": {},
   "outputs": [],
   "source": [
    "# pushing rubics to mongo db database \n",
    "for r in data_dict:\n",
    "    rpush = mycol.insert_one(r)"
   ]
  },
  {
   "cell_type": "code",
   "execution_count": 62,
   "metadata": {},
   "outputs": [
    {
     "data": {
      "text/plain": [
       "<pymongo.results.DeleteResult at 0x2bf68685388>"
      ]
     },
     "execution_count": 62,
     "metadata": {},
     "output_type": "execute_result"
    }
   ],
   "source": [
    "db.delete_many({})"
   ]
  },
  {
   "cell_type": "code",
   "execution_count": null,
   "metadata": {},
   "outputs": [],
   "source": []
  },
  {
   "cell_type": "code",
   "execution_count": null,
   "metadata": {},
   "outputs": [],
   "source": []
  },
  {
   "cell_type": "code",
   "execution_count": null,
   "metadata": {},
   "outputs": [],
   "source": []
  }
 ],
 "metadata": {
  "kernelspec": {
   "display_name": "Python 3",
   "language": "python",
   "name": "python3"
  },
  "language_info": {
   "codemirror_mode": {
    "name": "ipython",
    "version": 3
   },
   "file_extension": ".py",
   "mimetype": "text/x-python",
   "name": "python",
   "nbconvert_exporter": "python",
   "pygments_lexer": "ipython3",
   "version": "3.7.4"
  }
 },
 "nbformat": 4,
 "nbformat_minor": 2
}
