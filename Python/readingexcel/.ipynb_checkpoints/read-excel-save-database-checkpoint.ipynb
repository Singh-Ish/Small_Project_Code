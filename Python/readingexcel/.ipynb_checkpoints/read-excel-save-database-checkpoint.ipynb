{
 "cells": [
  {
   "cell_type": "code",
   "execution_count": 1,
   "metadata": {},
   "outputs": [],
   "source": [
    "import pandas as pd\n",
    "import pymongo\n",
    "import json\n",
    "\n",
    "from pymongo import MongoClient\n",
    "\n"
   ]
  },
  {
   "cell_type": "code",
   "execution_count": 32,
   "metadata": {},
   "outputs": [],
   "source": [
    "rfp= pd.read_excel('project-data.xlsx')\n",
    "rfp = rfp.fillna(method='ffill') # handling the merged cell data "
   ]
  },
  {
   "cell_type": "code",
   "execution_count": 33,
   "metadata": {},
   "outputs": [
    {
     "data": {
      "text/html": [
       "<div>\n",
       "<style scoped>\n",
       "    .dataframe tbody tr th:only-of-type {\n",
       "        vertical-align: middle;\n",
       "    }\n",
       "\n",
       "    .dataframe tbody tr th {\n",
       "        vertical-align: top;\n",
       "    }\n",
       "\n",
       "    .dataframe thead th {\n",
       "        text-align: right;\n",
       "    }\n",
       "</style>\n",
       "<table border=\"1\" class=\"dataframe\">\n",
       "  <thead>\n",
       "    <tr style=\"text-align: right;\">\n",
       "      <th></th>\n",
       "      <th>groupNo</th>\n",
       "      <th>title</th>\n",
       "      <th>supervisor</th>\n",
       "      <th>coSupervisor</th>\n",
       "      <th>id</th>\n",
       "      <th>lastName</th>\n",
       "      <th>firstName</th>\n",
       "      <th>AssessmentStatus</th>\n",
       "    </tr>\n",
       "  </thead>\n",
       "  <tbody>\n",
       "    <tr>\n",
       "      <td>0</td>\n",
       "      <td>52.0</td>\n",
       "      <td>Crowd-source grocery store layouts for dynamic...</td>\n",
       "      <td>Green</td>\n",
       "      <td>NaN</td>\n",
       "      <td>1.0</td>\n",
       "      <td>McConnell</td>\n",
       "      <td>Jenna</td>\n",
       "      <td>0.0</td>\n",
       "    </tr>\n",
       "    <tr>\n",
       "      <td>1</td>\n",
       "      <td>52.0</td>\n",
       "      <td>Crowd-source grocery store layouts for dynamic...</td>\n",
       "      <td>Green</td>\n",
       "      <td>NaN</td>\n",
       "      <td>2.0</td>\n",
       "      <td>Warmington</td>\n",
       "      <td>Saundra</td>\n",
       "      <td>0.0</td>\n",
       "    </tr>\n",
       "    <tr>\n",
       "      <td>2</td>\n",
       "      <td>52.0</td>\n",
       "      <td>Crowd-source grocery store layouts for dynamic...</td>\n",
       "      <td>Green</td>\n",
       "      <td>NaN</td>\n",
       "      <td>3.0</td>\n",
       "      <td>Poll</td>\n",
       "      <td>Jennifer</td>\n",
       "      <td>0.0</td>\n",
       "    </tr>\n",
       "    <tr>\n",
       "      <td>3</td>\n",
       "      <td>27.0</td>\n",
       "      <td>Living the GA dream</td>\n",
       "      <td>Labiche</td>\n",
       "      <td>NaN</td>\n",
       "      <td>4.0</td>\n",
       "      <td>Hebert</td>\n",
       "      <td>Darlene</td>\n",
       "      <td>0.0</td>\n",
       "    </tr>\n",
       "    <tr>\n",
       "      <td>4</td>\n",
       "      <td>27.0</td>\n",
       "      <td>Living the GA dream</td>\n",
       "      <td>Labiche</td>\n",
       "      <td>NaN</td>\n",
       "      <td>5.0</td>\n",
       "      <td>Singh</td>\n",
       "      <td>Ishdeep</td>\n",
       "      <td>0.0</td>\n",
       "    </tr>\n",
       "    <tr>\n",
       "      <td>5</td>\n",
       "      <td>27.0</td>\n",
       "      <td>Living the GA dream</td>\n",
       "      <td>Labiche</td>\n",
       "      <td>NaN</td>\n",
       "      <td>5.0</td>\n",
       "      <td>Singh</td>\n",
       "      <td>Ishdeep</td>\n",
       "      <td>0.0</td>\n",
       "    </tr>\n",
       "    <tr>\n",
       "      <td>6</td>\n",
       "      <td>27.0</td>\n",
       "      <td>Living the GA dream</td>\n",
       "      <td>Labiche</td>\n",
       "      <td>NaN</td>\n",
       "      <td>5.0</td>\n",
       "      <td>Singh</td>\n",
       "      <td>Ishdeep</td>\n",
       "      <td>0.0</td>\n",
       "    </tr>\n",
       "  </tbody>\n",
       "</table>\n",
       "</div>"
      ],
      "text/plain": [
       "   groupNo                                              title supervisor  \\\n",
       "0     52.0  Crowd-source grocery store layouts for dynamic...      Green   \n",
       "1     52.0  Crowd-source grocery store layouts for dynamic...      Green   \n",
       "2     52.0  Crowd-source grocery store layouts for dynamic...      Green   \n",
       "3     27.0                                Living the GA dream    Labiche   \n",
       "4     27.0                                Living the GA dream    Labiche   \n",
       "5     27.0                                Living the GA dream    Labiche   \n",
       "6     27.0                                Living the GA dream    Labiche   \n",
       "\n",
       "   coSupervisor   id    lastName firstName  AssessmentStatus  \n",
       "0           NaN  1.0   McConnell     Jenna               0.0  \n",
       "1           NaN  2.0  Warmington   Saundra               0.0  \n",
       "2           NaN  3.0        Poll  Jennifer               0.0  \n",
       "3           NaN  4.0      Hebert   Darlene               0.0  \n",
       "4           NaN  5.0       Singh   Ishdeep               0.0  \n",
       "5           NaN  5.0       Singh   Ishdeep               0.0  \n",
       "6           NaN  5.0       Singh   Ishdeep               0.0  "
      ]
     },
     "execution_count": 33,
     "metadata": {},
     "output_type": "execute_result"
    }
   ],
   "source": [
    "rfp"
   ]
  },
  {
   "cell_type": "code",
   "execution_count": 36,
   "metadata": {},
   "outputs": [],
   "source": [
    "rfp.sort_values(\"groupNo\",inplace =True) # sorting data based on the group number "
   ]
  },
  {
   "cell_type": "code",
   "execution_count": 37,
   "metadata": {},
   "outputs": [
    {
     "data": {
      "text/html": [
       "<div>\n",
       "<style scoped>\n",
       "    .dataframe tbody tr th:only-of-type {\n",
       "        vertical-align: middle;\n",
       "    }\n",
       "\n",
       "    .dataframe tbody tr th {\n",
       "        vertical-align: top;\n",
       "    }\n",
       "\n",
       "    .dataframe thead th {\n",
       "        text-align: right;\n",
       "    }\n",
       "</style>\n",
       "<table border=\"1\" class=\"dataframe\">\n",
       "  <thead>\n",
       "    <tr style=\"text-align: right;\">\n",
       "      <th></th>\n",
       "      <th>groupNo</th>\n",
       "      <th>title</th>\n",
       "      <th>supervisor</th>\n",
       "      <th>coSupervisor</th>\n",
       "      <th>id</th>\n",
       "      <th>lastName</th>\n",
       "      <th>firstName</th>\n",
       "      <th>AssessmentStatus</th>\n",
       "    </tr>\n",
       "  </thead>\n",
       "  <tbody>\n",
       "    <tr>\n",
       "      <td>3</td>\n",
       "      <td>27.0</td>\n",
       "      <td>Living the GA dream</td>\n",
       "      <td>Labiche</td>\n",
       "      <td>NaN</td>\n",
       "      <td>4.0</td>\n",
       "      <td>Hebert</td>\n",
       "      <td>Darlene</td>\n",
       "      <td>0.0</td>\n",
       "    </tr>\n",
       "    <tr>\n",
       "      <td>4</td>\n",
       "      <td>27.0</td>\n",
       "      <td>Living the GA dream</td>\n",
       "      <td>Labiche</td>\n",
       "      <td>NaN</td>\n",
       "      <td>5.0</td>\n",
       "      <td>Singh</td>\n",
       "      <td>Ishdeep</td>\n",
       "      <td>0.0</td>\n",
       "    </tr>\n",
       "    <tr>\n",
       "      <td>5</td>\n",
       "      <td>27.0</td>\n",
       "      <td>Living the GA dream</td>\n",
       "      <td>Labiche</td>\n",
       "      <td>NaN</td>\n",
       "      <td>5.0</td>\n",
       "      <td>Singh</td>\n",
       "      <td>Ishdeep</td>\n",
       "      <td>0.0</td>\n",
       "    </tr>\n",
       "    <tr>\n",
       "      <td>6</td>\n",
       "      <td>27.0</td>\n",
       "      <td>Living the GA dream</td>\n",
       "      <td>Labiche</td>\n",
       "      <td>NaN</td>\n",
       "      <td>5.0</td>\n",
       "      <td>Singh</td>\n",
       "      <td>Ishdeep</td>\n",
       "      <td>0.0</td>\n",
       "    </tr>\n",
       "    <tr>\n",
       "      <td>0</td>\n",
       "      <td>52.0</td>\n",
       "      <td>Crowd-source grocery store layouts for dynamic...</td>\n",
       "      <td>Green</td>\n",
       "      <td>NaN</td>\n",
       "      <td>1.0</td>\n",
       "      <td>McConnell</td>\n",
       "      <td>Jenna</td>\n",
       "      <td>0.0</td>\n",
       "    </tr>\n",
       "    <tr>\n",
       "      <td>1</td>\n",
       "      <td>52.0</td>\n",
       "      <td>Crowd-source grocery store layouts for dynamic...</td>\n",
       "      <td>Green</td>\n",
       "      <td>NaN</td>\n",
       "      <td>2.0</td>\n",
       "      <td>Warmington</td>\n",
       "      <td>Saundra</td>\n",
       "      <td>0.0</td>\n",
       "    </tr>\n",
       "    <tr>\n",
       "      <td>2</td>\n",
       "      <td>52.0</td>\n",
       "      <td>Crowd-source grocery store layouts for dynamic...</td>\n",
       "      <td>Green</td>\n",
       "      <td>NaN</td>\n",
       "      <td>3.0</td>\n",
       "      <td>Poll</td>\n",
       "      <td>Jennifer</td>\n",
       "      <td>0.0</td>\n",
       "    </tr>\n",
       "  </tbody>\n",
       "</table>\n",
       "</div>"
      ],
      "text/plain": [
       "   groupNo                                              title supervisor  \\\n",
       "3     27.0                                Living the GA dream    Labiche   \n",
       "4     27.0                                Living the GA dream    Labiche   \n",
       "5     27.0                                Living the GA dream    Labiche   \n",
       "6     27.0                                Living the GA dream    Labiche   \n",
       "0     52.0  Crowd-source grocery store layouts for dynamic...      Green   \n",
       "1     52.0  Crowd-source grocery store layouts for dynamic...      Green   \n",
       "2     52.0  Crowd-source grocery store layouts for dynamic...      Green   \n",
       "\n",
       "   coSupervisor   id    lastName firstName  AssessmentStatus  \n",
       "3           NaN  4.0      Hebert   Darlene               0.0  \n",
       "4           NaN  5.0       Singh   Ishdeep               0.0  \n",
       "5           NaN  5.0       Singh   Ishdeep               0.0  \n",
       "6           NaN  5.0       Singh   Ishdeep               0.0  \n",
       "0           NaN  1.0   McConnell     Jenna               0.0  \n",
       "1           NaN  2.0  Warmington   Saundra               0.0  \n",
       "2           NaN  3.0        Poll  Jennifer               0.0  "
      ]
     },
     "execution_count": 37,
     "metadata": {},
     "output_type": "execute_result"
    }
   ],
   "source": [
    "rfp"
   ]
  },
  {
   "cell_type": "code",
   "execution_count": 38,
   "metadata": {},
   "outputs": [
    {
     "data": {
      "text/html": [
       "<div>\n",
       "<style scoped>\n",
       "    .dataframe tbody tr th:only-of-type {\n",
       "        vertical-align: middle;\n",
       "    }\n",
       "\n",
       "    .dataframe tbody tr th {\n",
       "        vertical-align: top;\n",
       "    }\n",
       "\n",
       "    .dataframe thead th {\n",
       "        text-align: right;\n",
       "    }\n",
       "</style>\n",
       "<table border=\"1\" class=\"dataframe\">\n",
       "  <thead>\n",
       "    <tr style=\"text-align: right;\">\n",
       "      <th></th>\n",
       "      <th>groupNo</th>\n",
       "      <th>title</th>\n",
       "      <th>supervisor</th>\n",
       "      <th>coSupervisor</th>\n",
       "      <th>id</th>\n",
       "      <th>lastName</th>\n",
       "      <th>firstName</th>\n",
       "      <th>AssessmentStatus</th>\n",
       "    </tr>\n",
       "  </thead>\n",
       "  <tbody>\n",
       "    <tr>\n",
       "      <td>3</td>\n",
       "      <td>27.0</td>\n",
       "      <td>Living the GA dream</td>\n",
       "      <td>Labiche</td>\n",
       "      <td>NaN</td>\n",
       "      <td>4.0</td>\n",
       "      <td>Hebert</td>\n",
       "      <td>Darlene</td>\n",
       "      <td>0.0</td>\n",
       "    </tr>\n",
       "    <tr>\n",
       "      <td>4</td>\n",
       "      <td>27.0</td>\n",
       "      <td>Living the GA dream</td>\n",
       "      <td>Labiche</td>\n",
       "      <td>NaN</td>\n",
       "      <td>5.0</td>\n",
       "      <td>Singh</td>\n",
       "      <td>Ishdeep</td>\n",
       "      <td>0.0</td>\n",
       "    </tr>\n",
       "    <tr>\n",
       "      <td>0</td>\n",
       "      <td>52.0</td>\n",
       "      <td>Crowd-source grocery store layouts for dynamic...</td>\n",
       "      <td>Green</td>\n",
       "      <td>NaN</td>\n",
       "      <td>1.0</td>\n",
       "      <td>McConnell</td>\n",
       "      <td>Jenna</td>\n",
       "      <td>0.0</td>\n",
       "    </tr>\n",
       "    <tr>\n",
       "      <td>1</td>\n",
       "      <td>52.0</td>\n",
       "      <td>Crowd-source grocery store layouts for dynamic...</td>\n",
       "      <td>Green</td>\n",
       "      <td>NaN</td>\n",
       "      <td>2.0</td>\n",
       "      <td>Warmington</td>\n",
       "      <td>Saundra</td>\n",
       "      <td>0.0</td>\n",
       "    </tr>\n",
       "    <tr>\n",
       "      <td>2</td>\n",
       "      <td>52.0</td>\n",
       "      <td>Crowd-source grocery store layouts for dynamic...</td>\n",
       "      <td>Green</td>\n",
       "      <td>NaN</td>\n",
       "      <td>3.0</td>\n",
       "      <td>Poll</td>\n",
       "      <td>Jennifer</td>\n",
       "      <td>0.0</td>\n",
       "    </tr>\n",
       "  </tbody>\n",
       "</table>\n",
       "</div>"
      ],
      "text/plain": [
       "   groupNo                                              title supervisor  \\\n",
       "3     27.0                                Living the GA dream    Labiche   \n",
       "4     27.0                                Living the GA dream    Labiche   \n",
       "0     52.0  Crowd-source grocery store layouts for dynamic...      Green   \n",
       "1     52.0  Crowd-source grocery store layouts for dynamic...      Green   \n",
       "2     52.0  Crowd-source grocery store layouts for dynamic...      Green   \n",
       "\n",
       "   coSupervisor   id    lastName firstName  AssessmentStatus  \n",
       "3           NaN  4.0      Hebert   Darlene               0.0  \n",
       "4           NaN  5.0       Singh   Ishdeep               0.0  \n",
       "0           NaN  1.0   McConnell     Jenna               0.0  \n",
       "1           NaN  2.0  Warmington   Saundra               0.0  \n",
       "2           NaN  3.0        Poll  Jennifer               0.0  "
      ]
     },
     "execution_count": 38,
     "metadata": {},
     "output_type": "execute_result"
    }
   ],
   "source": [
    "df = rfp.drop_duplicates() # removing the duplication enteries and creating a new dataframe df \n",
    "df"
   ]
  },
  {
   "cell_type": "code",
   "execution_count": 39,
   "metadata": {},
   "outputs": [
    {
     "data": {
      "text/plain": [
       "['groupNo',\n",
       " 'title',\n",
       " 'supervisor',\n",
       " 'coSupervisor',\n",
       " 'id',\n",
       " 'lastName',\n",
       " 'firstName',\n",
       " 'AssessmentStatus']"
      ]
     },
     "execution_count": 39,
     "metadata": {},
     "output_type": "execute_result"
    }
   ],
   "source": [
    "list(df.columns)"
   ]
  },
  {
   "cell_type": "code",
   "execution_count": 40,
   "metadata": {},
   "outputs": [],
   "source": [
    "jf= df.to_json(orient='records') # converting datframes \n",
    "jf_data = json.loads(jf) # converting to dictionary \n",
    "jf_data\n",
    "\n",
    "with open('projects.json','w') as f:\n",
    "    json.dump(jf_data,f)"
   ]
  },
  {
   "cell_type": "code",
   "execution_count": 3,
   "metadata": {},
   "outputs": [],
   "source": [
    "#Connecting to Mondo db databse \n",
    "# mongo db settings \n",
    "client = MongoClient(\"mongodb://localhost:27017/\")\n",
    "mydb = client[\"assessment\"]\n",
    "mycol = mydb[\"projects\"]"
   ]
  },
  {
   "cell_type": "code",
   "execution_count": 23,
   "metadata": {},
   "outputs": [
    {
     "data": {
      "text/plain": [
       "[{'metric': 'Instructions ',\n",
       "  'Beginning': 'Weak understanding; works is inaccurate and significant redirection is required. Directions are disorganized, inaccurate and incomplete.',\n",
       "  'Developing': 'Basic understanding; main ideas are followed but missing detail. Directions are adequate but incomplete; sufficiently conveys basic concepts, but lacks accuracy and specificity. ',\n",
       "  'Accomplished': 'Mostly understood; work is largely accurate and little redirection is required. Directions are organized and appropriate; language is clear and mostly error-free.',\n",
       "  'Exemplary': 'Fully understood; work is focused and accurate; no redirection is  required. Directions are cohesive and easy to follow; language is concise, specific and descriptive. ',\n",
       "  '_id': ObjectId('5e5426396caf5271645be770')},\n",
       " {'metric': 'Self-awareness ',\n",
       "  'Beginning': 'Not focused on studies; no clear career goals or extracurricular interests; no attempt to self-direct or self-evaluate; no curiosity or initiative toward new subjects; unaware of the need to stay current; does not recognize personal limitations and the need to seek advice; constructive feedback is not well received.',\n",
       "  'Developing': 'Basic academic and extracurricular efforts are being put forth; vague career goals; limited self-direction and self-evaluation; minimal curiosity and initiative toward new subjects; basic awareness of the need to stay current; limited awareness of personal limitations and when to seek advice; limited ability to handle constructive feedback.',\n",
       "  'Accomplished': 'Good academic and extracurricular efforts; clear career goals; engages in self-direction and self-evaluation; curiosity and initiative toward new subjects is evident; understands the need to stay current; aware of personal limitations and when to seek advice; constructive feedback is well received.',\n",
       "  'Exemplary': 'Excels academically and in extracurricular activities; clear career goals with detailed plans; actively engages in self-direction and self-evaluation; high level of curiosity and initiative toward new subjects; thoroughly engaged in the need to stay current; accurate assessment of personal limitations when to seek advice; skillfully accepts and uses constructive feedback.',\n",
       "  '_id': ObjectId('5e5426396caf5271645be771')},\n",
       " {'metric': 'Information from relevant publications',\n",
       "  'Beginning': 'Reads only assigned materials; is not aware of relevant publications; does not look beyond information provided in class; makes little effort to independently find additional information.  ',\n",
       "  'Developing': 'Minimal consultation with outside materials; limited awareness of relevant publications; does not explore sources in details and often stops at first source without concern for credibility.',\n",
       "  'Accomplished': 'Regularly goes beyond assigned materials; reasonable awareness of relevant publications; able to independently locate required information and assess credibility of sources.',\n",
       "  'Exemplary': 'Actively seeks out additional materials; extensive knowledge of relevant publications; finds advanced information to further personal learning; thoroughly considers multiple sources with accurate assessment of both relevance and credibility.',\n",
       "  '_id': ObjectId('5e5426396caf5271645be772')}]"
      ]
     },
     "execution_count": 23,
     "metadata": {},
     "output_type": "execute_result"
    }
   ],
   "source": [
    "jf_data"
   ]
  },
  {
   "cell_type": "code",
   "execution_count": 19,
   "metadata": {},
   "outputs": [],
   "source": [
    "# saving to mongo db database \n",
    "\n",
    "for r in jf_data:\n",
    "    rpush = mycol.insert_one(r)\n",
    "    #print('multiple posts:{0}'.format(rpush.insert_ids))\n",
    "# how to avoid getting duplicates values in database ??"
   ]
  },
  {
   "cell_type": "code",
   "execution_count": null,
   "metadata": {},
   "outputs": [],
   "source": [
    "\n",
    "        "
   ]
  },
  {
   "cell_type": "code",
   "execution_count": 33,
   "metadata": {},
   "outputs": [],
   "source": [
    "# creating a query\n",
    "my_query = {\"Group No\": 52}"
   ]
  },
  {
   "cell_type": "code",
   "execution_count": 34,
   "metadata": {},
   "outputs": [
    {
     "data": {
      "text/plain": [
       "<pymongo.cursor.Cursor at 0x2bf4a6010c8>"
      ]
     },
     "execution_count": 34,
     "metadata": {},
     "output_type": "execute_result"
    }
   ],
   "source": [
    "# quering the database for matching values \n",
    "mydoc = mycol.find(my_query)\n",
    "mydoc"
   ]
  },
  {
   "cell_type": "code",
   "execution_count": 35,
   "metadata": {},
   "outputs": [
    {
     "name": "stdout",
     "output_type": "stream",
     "text": [
      "{'_id': ObjectId('5e502c182498f99b0226a2b0'), 'Group No': 52.0, 'Title': 'Crowd-source grocery store layouts for dynamically sorted shopping lists', 'Supervisor': 'Green', 'Co-supervisor': None, 'ID Number': 1.0, 'Last name': 'McConnell', 'First name': 'Jenna', 'Assessment Status': 0.0}\n",
      "{'_id': ObjectId('5e502c182498f99b0226a2b1'), 'Group No': 52.0, 'Title': 'Crowd-source grocery store layouts for dynamically sorted shopping lists', 'Supervisor': 'Green', 'Co-supervisor': None, 'ID Number': 2.0, 'Last name': 'Warmington', 'First name': 'Saundra', 'Assessment Status': 0.0}\n",
      "{'_id': ObjectId('5e502c182498f99b0226a2b2'), 'Group No': 52.0, 'Title': 'Crowd-source grocery store layouts for dynamically sorted shopping lists', 'Supervisor': 'Green', 'Co-supervisor': None, 'ID Number': 3.0, 'Last name': 'Poll', 'First name': 'Jennifer', 'Assessment Status': 0.0}\n"
     ]
    }
   ],
   "source": [
    "# printing the matched values \n",
    "\n",
    "for x in mydoc:\n",
    "   print(x) "
   ]
  },
  {
   "cell_type": "code",
   "execution_count": 133,
   "metadata": {},
   "outputs": [],
   "source": [
    "# database saving in SQL \n",
    "import mysql.connector as mysql \n"
   ]
  },
  {
   "cell_type": "code",
   "execution_count": 141,
   "metadata": {},
   "outputs": [
    {
     "ename": "NotSupportedError",
     "evalue": "Authentication plugin 'caching_sha2_password' is not supported",
     "output_type": "error",
     "traceback": [
      "\u001b[1;31m---------------------------------------------------------------------------\u001b[0m",
      "\u001b[1;31mNotSupportedError\u001b[0m                         Traceback (most recent call last)",
      "\u001b[1;32m<ipython-input-141-57ba5cb5a63d>\u001b[0m in \u001b[0;36m<module>\u001b[1;34m\u001b[0m\n\u001b[0;32m      4\u001b[0m   \u001b[0mhost\u001b[0m\u001b[1;33m=\u001b[0m\u001b[1;34m\"localhost\"\u001b[0m\u001b[1;33m,\u001b[0m\u001b[1;33m\u001b[0m\u001b[1;33m\u001b[0m\u001b[0m\n\u001b[0;32m      5\u001b[0m   \u001b[0muser\u001b[0m\u001b[1;33m=\u001b[0m\u001b[1;34m\"root\"\u001b[0m\u001b[1;33m,\u001b[0m\u001b[1;33m\u001b[0m\u001b[1;33m\u001b[0m\u001b[0m\n\u001b[1;32m----> 6\u001b[1;33m   \u001b[0mpasswd\u001b[0m\u001b[1;33m=\u001b[0m\u001b[1;34m\"root123\"\u001b[0m\u001b[1;33m\u001b[0m\u001b[1;33m\u001b[0m\u001b[0m\n\u001b[0m\u001b[0;32m      7\u001b[0m )\n",
      "\u001b[1;32mC:\\ProgramData\\Anaconda3\\lib\\site-packages\\mysql\\connector\\__init__.py\u001b[0m in \u001b[0;36mconnect\u001b[1;34m(*args, **kwargs)\u001b[0m\n\u001b[0;32m    177\u001b[0m                 \u001b[1;34m'host'\u001b[0m\u001b[1;33m:\u001b[0m \u001b[0msrv\u001b[0m\u001b[1;33m.\u001b[0m\u001b[0mtarget\u001b[0m\u001b[1;33m.\u001b[0m\u001b[0mto_text\u001b[0m\u001b[1;33m(\u001b[0m\u001b[0momit_final_dot\u001b[0m\u001b[1;33m=\u001b[0m\u001b[1;32mTrue\u001b[0m\u001b[1;33m)\u001b[0m\u001b[1;33m,\u001b[0m\u001b[1;33m\u001b[0m\u001b[1;33m\u001b[0m\u001b[0m\n\u001b[0;32m    178\u001b[0m                 \u001b[1;34m'port'\u001b[0m\u001b[1;33m:\u001b[0m \u001b[0msrv\u001b[0m\u001b[1;33m.\u001b[0m\u001b[0mport\u001b[0m\u001b[1;33m,\u001b[0m\u001b[1;33m\u001b[0m\u001b[1;33m\u001b[0m\u001b[0m\n\u001b[1;32m--> 179\u001b[1;33m                 \u001b[1;34m'priority'\u001b[0m\u001b[1;33m:\u001b[0m \u001b[0msrv\u001b[0m\u001b[1;33m.\u001b[0m\u001b[0mpriority\u001b[0m\u001b[1;33m,\u001b[0m\u001b[1;33m\u001b[0m\u001b[1;33m\u001b[0m\u001b[0m\n\u001b[0m\u001b[0;32m    180\u001b[0m                 \u001b[1;34m'weight'\u001b[0m\u001b[1;33m:\u001b[0m \u001b[0msrv\u001b[0m\u001b[1;33m.\u001b[0m\u001b[0mweight\u001b[0m\u001b[1;33m\u001b[0m\u001b[1;33m\u001b[0m\u001b[0m\n\u001b[0;32m    181\u001b[0m             })\n",
      "\u001b[1;32mC:\\ProgramData\\Anaconda3\\lib\\site-packages\\mysql\\connector\\connection.py\u001b[0m in \u001b[0;36m__init__\u001b[1;34m(self, *args, **kwargs)\u001b[0m\n\u001b[0;32m     93\u001b[0m \u001b[1;33m\u001b[0m\u001b[0m\n\u001b[0;32m     94\u001b[0m         \u001b[0mself\u001b[0m\u001b[1;33m.\u001b[0m\u001b[0m_prepared_statements\u001b[0m \u001b[1;33m=\u001b[0m \u001b[1;32mNone\u001b[0m\u001b[1;33m\u001b[0m\u001b[1;33m\u001b[0m\u001b[0m\n\u001b[1;32m---> 95\u001b[1;33m \u001b[1;33m\u001b[0m\u001b[0m\n\u001b[0m\u001b[0;32m     96\u001b[0m         \u001b[0mself\u001b[0m\u001b[1;33m.\u001b[0m\u001b[0m_ssl_active\u001b[0m \u001b[1;33m=\u001b[0m \u001b[1;32mFalse\u001b[0m\u001b[1;33m\u001b[0m\u001b[1;33m\u001b[0m\u001b[0m\n\u001b[0;32m     97\u001b[0m         \u001b[0mself\u001b[0m\u001b[1;33m.\u001b[0m\u001b[0m_auth_plugin\u001b[0m \u001b[1;33m=\u001b[0m \u001b[1;32mNone\u001b[0m\u001b[1;33m\u001b[0m\u001b[1;33m\u001b[0m\u001b[0m\n",
      "\u001b[1;32mC:\\ProgramData\\Anaconda3\\lib\\site-packages\\mysql\\connector\\abstracts.py\u001b[0m in \u001b[0;36mconnect\u001b[1;34m(self, **kwargs)\u001b[0m\n\u001b[0;32m    714\u001b[0m     \u001b[1;33m@\u001b[0m\u001b[0mabstractmethod\u001b[0m\u001b[1;33m\u001b[0m\u001b[1;33m\u001b[0m\u001b[0m\n\u001b[0;32m    715\u001b[0m     \u001b[1;32mdef\u001b[0m \u001b[0minfo_query\u001b[0m\u001b[1;33m(\u001b[0m\u001b[0mself\u001b[0m\u001b[1;33m,\u001b[0m \u001b[0mquery\u001b[0m\u001b[1;33m)\u001b[0m\u001b[1;33m:\u001b[0m\u001b[1;33m\u001b[0m\u001b[1;33m\u001b[0m\u001b[0m\n\u001b[1;32m--> 716\u001b[1;33m         \u001b[1;34m\"\"\"Send a query which only returns 1 row\"\"\"\u001b[0m\u001b[1;33m\u001b[0m\u001b[1;33m\u001b[0m\u001b[0m\n\u001b[0m\u001b[0;32m    717\u001b[0m         \u001b[1;32mpass\u001b[0m\u001b[1;33m\u001b[0m\u001b[1;33m\u001b[0m\u001b[0m\n\u001b[0;32m    718\u001b[0m \u001b[1;33m\u001b[0m\u001b[0m\n",
      "\u001b[1;32mC:\\ProgramData\\Anaconda3\\lib\\site-packages\\mysql\\connector\\connection.py\u001b[0m in \u001b[0;36m_open_connection\u001b[1;34m(self)\u001b[0m\n\u001b[0;32m    208\u001b[0m             \u001b[0mssl_enabled\u001b[0m\u001b[1;33m=\u001b[0m\u001b[0mself\u001b[0m\u001b[1;33m.\u001b[0m\u001b[0m_ssl_active\u001b[0m\u001b[1;33m,\u001b[0m\u001b[1;33m\u001b[0m\u001b[1;33m\u001b[0m\u001b[0m\n\u001b[0;32m    209\u001b[0m             \u001b[0mauth_plugin\u001b[0m\u001b[1;33m=\u001b[0m\u001b[0mself\u001b[0m\u001b[1;33m.\u001b[0m\u001b[0m_auth_plugin\u001b[0m\u001b[1;33m,\u001b[0m\u001b[1;33m\u001b[0m\u001b[1;33m\u001b[0m\u001b[0m\n\u001b[1;32m--> 210\u001b[1;33m             conn_attrs=conn_attrs)\n\u001b[0m\u001b[0;32m    211\u001b[0m         \u001b[0mself\u001b[0m\u001b[1;33m.\u001b[0m\u001b[0m_socket\u001b[0m\u001b[1;33m.\u001b[0m\u001b[0msend\u001b[0m\u001b[1;33m(\u001b[0m\u001b[0mpacket\u001b[0m\u001b[1;33m)\u001b[0m\u001b[1;33m\u001b[0m\u001b[1;33m\u001b[0m\u001b[0m\n\u001b[0;32m    212\u001b[0m         \u001b[0mself\u001b[0m\u001b[1;33m.\u001b[0m\u001b[0m_auth_switch_request\u001b[0m\u001b[1;33m(\u001b[0m\u001b[0musername\u001b[0m\u001b[1;33m,\u001b[0m \u001b[0mpassword\u001b[0m\u001b[1;33m)\u001b[0m\u001b[1;33m\u001b[0m\u001b[1;33m\u001b[0m\u001b[0m\n",
      "\u001b[1;32mC:\\ProgramData\\Anaconda3\\lib\\site-packages\\mysql\\connector\\connection.py\u001b[0m in \u001b[0;36m_do_auth\u001b[1;34m(self, username, password, database, client_flags, charset, ssl_options)\u001b[0m\n\u001b[0;32m    140\u001b[0m             \"_os\": os_ver}\n\u001b[0;32m    141\u001b[0m \u001b[1;33m\u001b[0m\u001b[0m\n\u001b[1;32m--> 142\u001b[1;33m         \u001b[0mself\u001b[0m\u001b[1;33m.\u001b[0m\u001b[0m_conn_attrs\u001b[0m\u001b[1;33m.\u001b[0m\u001b[0mupdate\u001b[0m\u001b[1;33m(\u001b[0m\u001b[1;33m(\u001b[0m\u001b[0mdefault_conn_attrs\u001b[0m\u001b[1;33m)\u001b[0m\u001b[1;33m)\u001b[0m\u001b[1;33m\u001b[0m\u001b[1;33m\u001b[0m\u001b[0m\n\u001b[0m\u001b[0;32m    143\u001b[0m \u001b[1;33m\u001b[0m\u001b[0m\n\u001b[0;32m    144\u001b[0m     \u001b[1;32mdef\u001b[0m \u001b[0m_do_handshake\u001b[0m\u001b[1;33m(\u001b[0m\u001b[0mself\u001b[0m\u001b[1;33m)\u001b[0m\u001b[1;33m:\u001b[0m\u001b[1;33m\u001b[0m\u001b[1;33m\u001b[0m\u001b[0m\n",
      "\u001b[1;32mC:\\ProgramData\\Anaconda3\\lib\\site-packages\\mysql\\connector\\protocol.py\u001b[0m in \u001b[0;36mmake_auth\u001b[1;34m(self, handshake, username, password, database, charset, client_flags, max_allowed_packet, ssl_enabled, auth_plugin)\u001b[0m\n\u001b[0;32m    100\u001b[0m             \u001b[0musername_bytes\u001b[0m \u001b[1;33m=\u001b[0m \u001b[0musername\u001b[0m\u001b[1;33m\u001b[0m\u001b[1;33m\u001b[0m\u001b[0m\n\u001b[0;32m    101\u001b[0m         packet = struct.pack('<IIH{filler}{usrlen}sx'.format(\n\u001b[1;32m--> 102\u001b[1;33m             filler='x' * 22, usrlen=len(username_bytes)),\n\u001b[0m\u001b[0;32m    103\u001b[0m                              \u001b[0mclient_flags\u001b[0m\u001b[1;33m,\u001b[0m \u001b[0mmax_allowed_packet\u001b[0m\u001b[1;33m,\u001b[0m \u001b[0mcharset\u001b[0m\u001b[1;33m,\u001b[0m\u001b[1;33m\u001b[0m\u001b[1;33m\u001b[0m\u001b[0m\n\u001b[0;32m    104\u001b[0m                              username_bytes)\n",
      "\u001b[1;32mC:\\ProgramData\\Anaconda3\\lib\\site-packages\\mysql\\connector\\protocol.py\u001b[0m in \u001b[0;36m_auth_response\u001b[1;34m(self, client_flags, username, password, database, auth_plugin, auth_data, ssl_enabled)\u001b[0m\n\u001b[0;32m     56\u001b[0m         \u001b[1;32mreturn\u001b[0m \u001b[1;34mb'\\x00'\u001b[0m\u001b[1;33m\u001b[0m\u001b[1;33m\u001b[0m\u001b[0m\n\u001b[0;32m     57\u001b[0m \u001b[1;33m\u001b[0m\u001b[0m\n\u001b[1;32m---> 58\u001b[1;33m     def _auth_response(self, client_flags, username, password, database,\n\u001b[0m\u001b[0;32m     59\u001b[0m                        auth_plugin, auth_data, ssl_enabled):\n\u001b[0;32m     60\u001b[0m         \u001b[1;34m\"\"\"Prepare the authentication response\"\"\"\u001b[0m\u001b[1;33m\u001b[0m\u001b[1;33m\u001b[0m\u001b[0m\n",
      "\u001b[1;32mC:\\ProgramData\\Anaconda3\\lib\\site-packages\\mysql\\connector\\authentication.py\u001b[0m in \u001b[0;36mget_auth_plugin\u001b[1;34m(plugin_name)\u001b[0m\n\u001b[0;32m    189\u001b[0m     \u001b[0mperform_full_authentication\u001b[0m \u001b[1;33m=\u001b[0m \u001b[1;36m4\u001b[0m\u001b[1;33m\u001b[0m\u001b[1;33m\u001b[0m\u001b[0m\n\u001b[0;32m    190\u001b[0m     \u001b[0mfast_auth_success\u001b[0m \u001b[1;33m=\u001b[0m \u001b[1;36m3\u001b[0m\u001b[1;33m\u001b[0m\u001b[1;33m\u001b[0m\u001b[0m\n\u001b[1;32m--> 191\u001b[1;33m \u001b[1;33m\u001b[0m\u001b[0m\n\u001b[0m\u001b[0;32m    192\u001b[0m     \u001b[1;32mdef\u001b[0m \u001b[0m_scramble\u001b[0m\u001b[1;33m(\u001b[0m\u001b[0mself\u001b[0m\u001b[1;33m)\u001b[0m\u001b[1;33m:\u001b[0m\u001b[1;33m\u001b[0m\u001b[1;33m\u001b[0m\u001b[0m\n\u001b[0;32m    193\u001b[0m         \"\"\" Returns a scramble of the password using a Nonce sent by the\n",
      "\u001b[1;31mNotSupportedError\u001b[0m: Authentication plugin 'caching_sha2_password' is not supported"
     ]
    }
   ],
   "source": [
    "# database configuration details \n",
    "\n",
    "db = mysql.connect(\n",
    "  host=\"localhost\",\n",
    "  user=\"root\",\n",
    "  passwd=\"root123\"\n",
    ")\n"
   ]
  },
  {
   "cell_type": "code",
   "execution_count": 142,
   "metadata": {},
   "outputs": [
    {
     "name": "stdout",
     "output_type": "stream",
     "text": [
      "Database(MongoClient(host=['localhost:27017'], document_class=dict, tz_aware=False, connect=True), 'assessment_test')\n"
     ]
    }
   ],
   "source": [
    "print(db)"
   ]
  },
  {
   "cell_type": "code",
   "execution_count": 140,
   "metadata": {},
   "outputs": [
    {
     "ename": "TypeError",
     "evalue": "'Collection' object is not callable. If you meant to call the 'cursor' method on a 'Database' object it is failing because no such method exists.",
     "output_type": "error",
     "traceback": [
      "\u001b[1;31m---------------------------------------------------------------------------\u001b[0m",
      "\u001b[1;31mTypeError\u001b[0m                                 Traceback (most recent call last)",
      "\u001b[1;32m<ipython-input-140-7935eb3a44e4>\u001b[0m in \u001b[0;36m<module>\u001b[1;34m\u001b[0m\n\u001b[1;32m----> 1\u001b[1;33m \u001b[0mmycursor\u001b[0m \u001b[1;33m=\u001b[0m \u001b[0mmydb\u001b[0m\u001b[1;33m.\u001b[0m\u001b[0mcursor\u001b[0m\u001b[1;33m(\u001b[0m\u001b[1;33m)\u001b[0m\u001b[1;33m\u001b[0m\u001b[1;33m\u001b[0m\u001b[0m\n\u001b[0m\u001b[0;32m      2\u001b[0m \u001b[0mmycursor\u001b[0m\u001b[1;33m.\u001b[0m\u001b[0mexecute\u001b[0m\u001b[1;33m(\u001b[0m\u001b[1;34m\"CREATE DATABASE sAssessment\"\u001b[0m\u001b[1;33m)\u001b[0m\u001b[1;33m\u001b[0m\u001b[1;33m\u001b[0m\u001b[0m\n",
      "\u001b[1;32mC:\\ProgramData\\Anaconda3\\lib\\site-packages\\pymongo\\collection.py\u001b[0m in \u001b[0;36m__call__\u001b[1;34m(self, *args, **kwargs)\u001b[0m\n\u001b[0;32m   3337\u001b[0m                             \u001b[1;34m\"object it is failing because no such method \"\u001b[0m\u001b[1;33m\u001b[0m\u001b[1;33m\u001b[0m\u001b[0m\n\u001b[0;32m   3338\u001b[0m                             \u001b[1;34m\"exists.\"\u001b[0m \u001b[1;33m%\u001b[0m\u001b[1;33m\u001b[0m\u001b[1;33m\u001b[0m\u001b[0m\n\u001b[1;32m-> 3339\u001b[1;33m                             self.__name)\n\u001b[0m\u001b[0;32m   3340\u001b[0m         raise TypeError(\"'Collection' object is not callable. If you meant to \"\n\u001b[0;32m   3341\u001b[0m                         \u001b[1;34m\"call the '%s' method on a 'Collection' object it is \"\u001b[0m\u001b[1;33m\u001b[0m\u001b[1;33m\u001b[0m\u001b[0m\n",
      "\u001b[1;31mTypeError\u001b[0m: 'Collection' object is not callable. If you meant to call the 'cursor' method on a 'Database' object it is failing because no such method exists."
     ]
    }
   ],
   "source": [
    "mycursor = mydb.cursor()\n",
    "mycursor.execute(\"CREATE DATABASE sAssessment\")"
   ]
  },
  {
   "cell_type": "code",
   "execution_count": 143,
   "metadata": {},
   "outputs": [],
   "source": [
    "# html table using python \n",
    "\n",
    "from flask_table import Table,Col\n"
   ]
  },
  {
   "cell_type": "code",
   "execution_count": 145,
   "metadata": {},
   "outputs": [
    {
     "name": "stdout",
     "output_type": "stream",
     "text": [
      "<table>\n",
      "<thead><tr><th>Name</th><th>Description</th></tr></thead>\n",
      "<tbody>\n",
      "<tr><td>Name1</td><td>Description1</td></tr>\n",
      "<tr><td>Name2</td><td>Description2</td></tr>\n",
      "<tr><td>Name3</td><td>Description3</td></tr>\n",
      "</tbody>\n",
      "</table>\n"
     ]
    }
   ],
   "source": [
    "class ItemTable(Table):\n",
    "    name = Col('Name')\n",
    "    description = Col('Description')\n",
    "    \n",
    "# Get some objects\n",
    "class Item(object):\n",
    "    def __init__(self, name, description):\n",
    "        self.name = name\n",
    "        self.description = description\n",
    "        \n",
    "items = [Item('Name1', 'Description1'),\n",
    "         Item('Name2', 'Description2'),\n",
    "         Item('Name3', 'Description3')]\n",
    "# Or, equivalently, some dicts\n",
    "items = [dict(name='Name1', description='Description1'),\n",
    "         dict(name='Name2', description='Description2'),\n",
    "         dict(name='Name3', description='Description3')]\n",
    "\n",
    "# Or, more likely, load items from your database with something like\n",
    "#items = ItemModel.query.all()\n",
    "\n",
    "# Populate the table\n",
    "table = ItemTable(items)\n",
    "\n",
    "# Print the html\n",
    "print(table.__html__())\n",
    "# or just {{ table }} from within a Jinja template"
   ]
  },
  {
   "cell_type": "code",
   "execution_count": 19,
   "metadata": {},
   "outputs": [
    {
     "data": {
      "text/plain": [
       "'{\"Instructions \": {\"Beginning\": \"Weak understanding; works is inaccurate and significant redirection is required. Directions are disorganized, inaccurate and incomplete.\", \"Developing\": \"Basic understanding; main ideas are followed but missing detail. Directions are adequate but incomplete; sufficiently conveys basic concepts, but lacks accuracy and specificity. \", \"Accomplished\": \"Mostly understood; work is largely accurate and little redirection is required. Directions are organized and appropriate; language is clear and mostly error-free.\", \"Exemplary\": \"Fully understood; work is focused and accurate; no redirection is  required. Directions are cohesive and easy to follow; language is concise, specific and descriptive. \", \"metrics\": \"Instructions \"}, \"Self-awareness \": {\"Beginning\": \"Not focused on studies; no clear career goals or extracurricular interests; no attempt to self-direct or self-evaluate; no curiosity or initiative toward new subjects; unaware of the need to stay current; does not recognize personal limitations and the need to seek advice; constructive feedback is not well received.\", \"Developing\": \"Basic academic and extracurricular efforts are being put forth; vague career goals; limited self-direction and self-evaluation; minimal curiosity and initiative toward new subjects; basic awareness of the need to stay current; limited awareness of personal limitations and when to seek advice; limited ability to handle constructive feedback.\", \"Accomplished\": \"Good academic and extracurricular efforts; clear career goals; engages in self-direction and self-evaluation; curiosity and initiative toward new subjects is evident; understands the need to stay current; aware of personal limitations and when to seek advice; constructive feedback is well received.\", \"Exemplary\": \"Excels academically and in extracurricular activities; clear career goals with detailed plans; actively engages in self-direction and self-evaluation; high level of curiosity and initiative toward new subjects; thoroughly engaged in the need to stay current; accurate assessment of personal limitations when to seek advice; skillfully accepts and uses constructive feedback.\", \"metrics\": \"Self-awareness \"}, \"Information from relevant publications\": {\"Beginning\": \"Reads only assigned materials; is not aware of relevant publications; does not look beyond information provided in class; makes little effort to independently find additional information.  \", \"Developing\": \"Minimal consultation with outside materials; limited awareness of relevant publications; does not explore sources in details and often stops at first source without concern for credibility.\", \"Accomplished\": \"Regularly goes beyond assigned materials; reasonable awareness of relevant publications; able to independently locate required information and assess credibility of sources.\", \"Exemplary\": \"Actively seeks out additional materials; extensive knowledge of relevant publications; finds advanced information to further personal learning; thoroughly considers multiple sources with accurate assessment of both relevance and credibility.\", \"metrics\": \"Information from relevant publications\"}}'"
      ]
     },
     "execution_count": 19,
     "metadata": {},
     "output_type": "execute_result"
    }
   ],
   "source": [
    "# reading the rubics and saving to database \n",
    "ru = pd.read_excel('rubicsMetrix.xlsx',index_col=[0])\n",
    "ru['metrics'] = ru.index\n",
    "ru=ru.T\n",
    "rud = ru.to_dict()\n",
    "rud\n",
    "rd = json.dumps(rud)\n",
    "rd"
   ]
  },
  {
   "cell_type": "code",
   "execution_count": 20,
   "metadata": {},
   "outputs": [
    {
     "data": {
      "text/plain": [
       "[{'metric': 'Instructions ',\n",
       "  'Beginning': 'Weak understanding; works is inaccurate and significant redirection is required. Directions are disorganized, inaccurate and incomplete.',\n",
       "  'Developing': 'Basic understanding; main ideas are followed but missing detail. Directions are adequate but incomplete; sufficiently conveys basic concepts, but lacks accuracy and specificity. ',\n",
       "  'Accomplished': 'Mostly understood; work is largely accurate and little redirection is required. Directions are organized and appropriate; language is clear and mostly error-free.',\n",
       "  'Exemplary': 'Fully understood; work is focused and accurate; no redirection is  required. Directions are cohesive and easy to follow; language is concise, specific and descriptive. '},\n",
       " {'metric': 'Self-awareness ',\n",
       "  'Beginning': 'Not focused on studies; no clear career goals or extracurricular interests; no attempt to self-direct or self-evaluate; no curiosity or initiative toward new subjects; unaware of the need to stay current; does not recognize personal limitations and the need to seek advice; constructive feedback is not well received.',\n",
       "  'Developing': 'Basic academic and extracurricular efforts are being put forth; vague career goals; limited self-direction and self-evaluation; minimal curiosity and initiative toward new subjects; basic awareness of the need to stay current; limited awareness of personal limitations and when to seek advice; limited ability to handle constructive feedback.',\n",
       "  'Accomplished': 'Good academic and extracurricular efforts; clear career goals; engages in self-direction and self-evaluation; curiosity and initiative toward new subjects is evident; understands the need to stay current; aware of personal limitations and when to seek advice; constructive feedback is well received.',\n",
       "  'Exemplary': 'Excels academically and in extracurricular activities; clear career goals with detailed plans; actively engages in self-direction and self-evaluation; high level of curiosity and initiative toward new subjects; thoroughly engaged in the need to stay current; accurate assessment of personal limitations when to seek advice; skillfully accepts and uses constructive feedback.'},\n",
       " {'metric': 'Information from relevant publications',\n",
       "  'Beginning': 'Reads only assigned materials; is not aware of relevant publications; does not look beyond information provided in class; makes little effort to independently find additional information.  ',\n",
       "  'Developing': 'Minimal consultation with outside materials; limited awareness of relevant publications; does not explore sources in details and often stops at first source without concern for credibility.',\n",
       "  'Accomplished': 'Regularly goes beyond assigned materials; reasonable awareness of relevant publications; able to independently locate required information and assess credibility of sources.',\n",
       "  'Exemplary': 'Actively seeks out additional materials; extensive knowledge of relevant publications; finds advanced information to further personal learning; thoroughly considers multiple sources with accurate assessment of both relevance and credibility.'}]"
      ]
     },
     "execution_count": 20,
     "metadata": {},
     "output_type": "execute_result"
    }
   ],
   "source": [
    "jf= rub.to_json(orient='records') # converting datframes \n",
    "jf_data = json.loads(jf) # converting to dictionary \n",
    "jf_data\n"
   ]
  },
  {
   "cell_type": "code",
   "execution_count": 21,
   "metadata": {},
   "outputs": [],
   "source": [
    "# pushing rubics to mongo db database \n",
    "for r in jf_data:\n",
    "    rpush = mycol.insert_one(r)"
   ]
  },
  {
   "cell_type": "code",
   "execution_count": 18,
   "metadata": {},
   "outputs": [
    {
     "data": {
      "text/plain": [
       "['metric', 'Beginning', 'Developing', 'Accomplished', 'Exemplary']"
      ]
     },
     "execution_count": 18,
     "metadata": {},
     "output_type": "execute_result"
    }
   ],
   "source": []
  },
  {
   "cell_type": "code",
   "execution_count": 15,
   "metadata": {},
   "outputs": [
    {
     "data": {
      "text/plain": [
       "[{'metric': 'Instructions ',\n",
       "  'Level 1: Beginning': 'Weak understanding; works is inaccurate and significant redirection is required. Directions are disorganized, inaccurate and incomplete.',\n",
       "  'Level 2: Developing': 'Basic understanding; main ideas are followed but missing detail. Directions are adequate but incomplete; sufficiently conveys basic concepts, but lacks accuracy and specificity. ',\n",
       "  'Level 3: Accomplished': 'Mostly understood; work is largely accurate and little redirection is required. Directions are organized and appropriate; language is clear and mostly error-free.',\n",
       "  'Level 4: Exemplary': 'Fully understood; work is focused and accurate; no redirection is  required. Directions are cohesive and easy to follow; language is concise, specific and descriptive. '},\n",
       " {'metric': 'Self-awareness ',\n",
       "  'Level 1: Beginning': 'Not focused on studies; no clear career goals or extracurricular interests; no attempt to self-direct or self-evaluate; no curiosity or initiative toward new subjects; unaware of the need to stay current; does not recognize personal limitations and the need to seek advice; constructive feedback is not well received.',\n",
       "  'Level 2: Developing': 'Basic academic and extracurricular efforts are being put forth; vague career goals; limited self-direction and self-evaluation; minimal curiosity and initiative toward new subjects; basic awareness of the need to stay current; limited awareness of personal limitations and when to seek advice; limited ability to handle constructive feedback.',\n",
       "  'Level 3: Accomplished': 'Good academic and extracurricular efforts; clear career goals; engages in self-direction and self-evaluation; curiosity and initiative toward new subjects is evident; understands the need to stay current; aware of personal limitations and when to seek advice; constructive feedback is well received.',\n",
       "  'Level 4: Exemplary': 'Excels academically and in extracurricular activities; clear career goals with detailed plans; actively engages in self-direction and self-evaluation; high level of curiosity and initiative toward new subjects; thoroughly engaged in the need to stay current; accurate assessment of personal limitations when to seek advice; skillfully accepts and uses constructive feedback.'},\n",
       " {'metric': 'Information from relevant publications',\n",
       "  'Level 1: Beginning': 'Reads only assigned materials; is not aware of relevant publications; does not look beyond information provided in class; makes little effort to independently find additional information.  ',\n",
       "  'Level 2: Developing': 'Minimal consultation with outside materials; limited awareness of relevant publications; does not explore sources in details and often stops at first source without concern for credibility.',\n",
       "  'Level 3: Accomplished': 'Regularly goes beyond assigned materials; reasonable awareness of relevant publications; able to independently locate required information and assess credibility of sources.',\n",
       "  'Level 4: Exemplary': 'Actively seeks out additional materials; extensive knowledge of relevant publications; finds advanced information to further personal learning; thoroughly considers multiple sources with accurate assessment of both relevance and credibility.'}]"
      ]
     },
     "execution_count": 15,
     "metadata": {},
     "output_type": "execute_result"
    }
   ],
   "source": [
    "\n"
   ]
  },
  {
   "cell_type": "code",
   "execution_count": 3,
   "metadata": {},
   "outputs": [
    {
     "data": {
      "text/html": [
       "<div>\n",
       "<style scoped>\n",
       "    .dataframe tbody tr th:only-of-type {\n",
       "        vertical-align: middle;\n",
       "    }\n",
       "\n",
       "    .dataframe tbody tr th {\n",
       "        vertical-align: top;\n",
       "    }\n",
       "\n",
       "    .dataframe thead th {\n",
       "        text-align: right;\n",
       "    }\n",
       "</style>\n",
       "<table border=\"1\" class=\"dataframe\">\n",
       "  <thead>\n",
       "    <tr style=\"text-align: right;\">\n",
       "      <th></th>\n",
       "      <th>Level 1: Beginning</th>\n",
       "      <th>Level 2: Developing</th>\n",
       "      <th>Level 3: Accomplished</th>\n",
       "      <th>Level 4: Exemplary</th>\n",
       "    </tr>\n",
       "  </thead>\n",
       "  <tbody>\n",
       "    <tr>\n",
       "      <td>Instructions</td>\n",
       "      <td>Weak understanding; works is inaccurate and si...</td>\n",
       "      <td>Basic understanding; main ideas are followed b...</td>\n",
       "      <td>Mostly understood; work is largely accurate an...</td>\n",
       "      <td>Fully understood; work is focused and accurate...</td>\n",
       "    </tr>\n",
       "    <tr>\n",
       "      <td>Self-awareness</td>\n",
       "      <td>Not focused on studies; no clear career goals ...</td>\n",
       "      <td>Basic academic and extracurricular efforts are...</td>\n",
       "      <td>Good academic and extracurricular efforts; cle...</td>\n",
       "      <td>Excels academically and in extracurricular act...</td>\n",
       "    </tr>\n",
       "    <tr>\n",
       "      <td>Information from relevant publications</td>\n",
       "      <td>Reads only assigned materials; is not aware of...</td>\n",
       "      <td>Minimal consultation with outside materials; l...</td>\n",
       "      <td>Regularly goes beyond assigned materials; reas...</td>\n",
       "      <td>Actively seeks out additional materials; exten...</td>\n",
       "    </tr>\n",
       "  </tbody>\n",
       "</table>\n",
       "</div>"
      ],
      "text/plain": [
       "                                                                       Level 1: Beginning  \\\n",
       "Instructions                            Weak understanding; works is inaccurate and si...   \n",
       "Self-awareness                          Not focused on studies; no clear career goals ...   \n",
       "Information from relevant publications  Reads only assigned materials; is not aware of...   \n",
       "\n",
       "                                                                      Level 2: Developing  \\\n",
       "Instructions                            Basic understanding; main ideas are followed b...   \n",
       "Self-awareness                          Basic academic and extracurricular efforts are...   \n",
       "Information from relevant publications  Minimal consultation with outside materials; l...   \n",
       "\n",
       "                                                                    Level 3: Accomplished  \\\n",
       "Instructions                            Mostly understood; work is largely accurate an...   \n",
       "Self-awareness                          Good academic and extracurricular efforts; cle...   \n",
       "Information from relevant publications  Regularly goes beyond assigned materials; reas...   \n",
       "\n",
       "                                                                       Level 4: Exemplary  \n",
       "Instructions                            Fully understood; work is focused and accurate...  \n",
       "Self-awareness                          Excels academically and in extracurricular act...  \n",
       "Information from relevant publications  Actively seeks out additional materials; exten...  "
      ]
     },
     "execution_count": 3,
     "metadata": {},
     "output_type": "execute_result"
    }
   ],
   "source": []
  },
  {
   "cell_type": "raw",
   "metadata": {},
   "source": []
  },
  {
   "cell_type": "code",
   "execution_count": 12,
   "metadata": {},
   "outputs": [],
   "source": [
    "\n"
   ]
  },
  {
   "cell_type": "code",
   "execution_count": 13,
   "metadata": {},
   "outputs": [
    {
     "data": {
      "text/plain": [
       "{'Level 1: Beginning': {'Instructions ': 'Weak understanding; works is inaccurate and significant redirection is required. Directions are disorganized, inaccurate and incomplete.',\n",
       "  'Self-awareness ': 'Not focused on studies; no clear career goals or extracurricular interests; no attempt to self-direct or self-evaluate; no curiosity or initiative toward new subjects; unaware of the need to stay current; does not recognize personal limitations and the need to seek advice; constructive feedback is not well received.',\n",
       "  'Information from relevant publications': 'Reads only assigned materials; is not aware of relevant publications; does not look beyond information provided in class; makes little effort to independently find additional information.  '},\n",
       " 'Level 2: Developing': {'Instructions ': 'Basic understanding; main ideas are followed but missing detail. Directions are adequate but incomplete; sufficiently conveys basic concepts, but lacks accuracy and specificity. ',\n",
       "  'Self-awareness ': 'Basic academic and extracurricular efforts are being put forth; vague career goals; limited self-direction and self-evaluation; minimal curiosity and initiative toward new subjects; basic awareness of the need to stay current; limited awareness of personal limitations and when to seek advice; limited ability to handle constructive feedback.',\n",
       "  'Information from relevant publications': 'Minimal consultation with outside materials; limited awareness of relevant publications; does not explore sources in details and often stops at first source without concern for credibility.'},\n",
       " 'Level 3: Accomplished': {'Instructions ': 'Mostly understood; work is largely accurate and little redirection is required. Directions are organized and appropriate; language is clear and mostly error-free.',\n",
       "  'Self-awareness ': 'Good academic and extracurricular efforts; clear career goals; engages in self-direction and self-evaluation; curiosity and initiative toward new subjects is evident; understands the need to stay current; aware of personal limitations and when to seek advice; constructive feedback is well received.',\n",
       "  'Information from relevant publications': 'Regularly goes beyond assigned materials; reasonable awareness of relevant publications; able to independently locate required information and assess credibility of sources.'},\n",
       " 'Level 4: Exemplary': {'Instructions ': 'Fully understood; work is focused and accurate; no redirection is  required. Directions are cohesive and easy to follow; language is concise, specific and descriptive. ',\n",
       "  'Self-awareness ': 'Excels academically and in extracurricular activities; clear career goals with detailed plans; actively engages in self-direction and self-evaluation; high level of curiosity and initiative toward new subjects; thoroughly engaged in the need to stay current; accurate assessment of personal limitations when to seek advice; skillfully accepts and uses constructive feedback.',\n",
       "  'Information from relevant publications': 'Actively seeks out additional materials; extensive knowledge of relevant publications; finds advanced information to further personal learning; thoroughly considers multiple sources with accurate assessment of both relevance and credibility.'}}"
      ]
     },
     "execution_count": 13,
     "metadata": {},
     "output_type": "execute_result"
    }
   ],
   "source": []
  },
  {
   "cell_type": "code",
   "execution_count": 14,
   "metadata": {},
   "outputs": [],
   "source": []
  },
  {
   "cell_type": "code",
   "execution_count": 15,
   "metadata": {},
   "outputs": [
    {
     "data": {
      "text/html": [
       "<div>\n",
       "<style scoped>\n",
       "    .dataframe tbody tr th:only-of-type {\n",
       "        vertical-align: middle;\n",
       "    }\n",
       "\n",
       "    .dataframe tbody tr th {\n",
       "        vertical-align: top;\n",
       "    }\n",
       "\n",
       "    .dataframe thead th {\n",
       "        text-align: right;\n",
       "    }\n",
       "</style>\n",
       "<table border=\"1\" class=\"dataframe\">\n",
       "  <thead>\n",
       "    <tr style=\"text-align: right;\">\n",
       "      <th></th>\n",
       "      <th>Instructions</th>\n",
       "      <th>Self-awareness</th>\n",
       "      <th>Information from relevant publications</th>\n",
       "    </tr>\n",
       "  </thead>\n",
       "  <tbody>\n",
       "    <tr>\n",
       "      <td>Level 1: Beginning</td>\n",
       "      <td>Weak understanding; works is inaccurate and si...</td>\n",
       "      <td>Not focused on studies; no clear career goals ...</td>\n",
       "      <td>Reads only assigned materials; is not aware of...</td>\n",
       "    </tr>\n",
       "    <tr>\n",
       "      <td>Level 2: Developing</td>\n",
       "      <td>Basic understanding; main ideas are followed b...</td>\n",
       "      <td>Basic academic and extracurricular efforts are...</td>\n",
       "      <td>Minimal consultation with outside materials; l...</td>\n",
       "    </tr>\n",
       "    <tr>\n",
       "      <td>Level 3: Accomplished</td>\n",
       "      <td>Mostly understood; work is largely accurate an...</td>\n",
       "      <td>Good academic and extracurricular efforts; cle...</td>\n",
       "      <td>Regularly goes beyond assigned materials; reas...</td>\n",
       "    </tr>\n",
       "    <tr>\n",
       "      <td>Level 4: Exemplary</td>\n",
       "      <td>Fully understood; work is focused and accurate...</td>\n",
       "      <td>Excels academically and in extracurricular act...</td>\n",
       "      <td>Actively seeks out additional materials; exten...</td>\n",
       "    </tr>\n",
       "  </tbody>\n",
       "</table>\n",
       "</div>"
      ],
      "text/plain": [
       "                                                           Instructions   \\\n",
       "Level 1: Beginning     Weak understanding; works is inaccurate and si...   \n",
       "Level 2: Developing    Basic understanding; main ideas are followed b...   \n",
       "Level 3: Accomplished  Mostly understood; work is largely accurate an...   \n",
       "Level 4: Exemplary     Fully understood; work is focused and accurate...   \n",
       "\n",
       "                                                         Self-awareness   \\\n",
       "Level 1: Beginning     Not focused on studies; no clear career goals ...   \n",
       "Level 2: Developing    Basic academic and extracurricular efforts are...   \n",
       "Level 3: Accomplished  Good academic and extracurricular efforts; cle...   \n",
       "Level 4: Exemplary     Excels academically and in extracurricular act...   \n",
       "\n",
       "                                  Information from relevant publications  \n",
       "Level 1: Beginning     Reads only assigned materials; is not aware of...  \n",
       "Level 2: Developing    Minimal consultation with outside materials; l...  \n",
       "Level 3: Accomplished  Regularly goes beyond assigned materials; reas...  \n",
       "Level 4: Exemplary     Actively seeks out additional materials; exten...  "
      ]
     },
     "execution_count": 15,
     "metadata": {},
     "output_type": "execute_result"
    }
   ],
   "source": []
  },
  {
   "cell_type": "code",
   "execution_count": 16,
   "metadata": {},
   "outputs": [],
   "source": []
  },
  {
   "cell_type": "code",
   "execution_count": 17,
   "metadata": {},
   "outputs": [
    {
     "data": {
      "text/plain": [
       "{'Instructions ': {'Level 1: Beginning': 'Weak understanding; works is inaccurate and significant redirection is required. Directions are disorganized, inaccurate and incomplete.',\n",
       "  'Level 2: Developing': 'Basic understanding; main ideas are followed but missing detail. Directions are adequate but incomplete; sufficiently conveys basic concepts, but lacks accuracy and specificity. ',\n",
       "  'Level 3: Accomplished': 'Mostly understood; work is largely accurate and little redirection is required. Directions are organized and appropriate; language is clear and mostly error-free.',\n",
       "  'Level 4: Exemplary': 'Fully understood; work is focused and accurate; no redirection is  required. Directions are cohesive and easy to follow; language is concise, specific and descriptive. '},\n",
       " 'Self-awareness ': {'Level 1: Beginning': 'Not focused on studies; no clear career goals or extracurricular interests; no attempt to self-direct or self-evaluate; no curiosity or initiative toward new subjects; unaware of the need to stay current; does not recognize personal limitations and the need to seek advice; constructive feedback is not well received.',\n",
       "  'Level 2: Developing': 'Basic academic and extracurricular efforts are being put forth; vague career goals; limited self-direction and self-evaluation; minimal curiosity and initiative toward new subjects; basic awareness of the need to stay current; limited awareness of personal limitations and when to seek advice; limited ability to handle constructive feedback.',\n",
       "  'Level 3: Accomplished': 'Good academic and extracurricular efforts; clear career goals; engages in self-direction and self-evaluation; curiosity and initiative toward new subjects is evident; understands the need to stay current; aware of personal limitations and when to seek advice; constructive feedback is well received.',\n",
       "  'Level 4: Exemplary': 'Excels academically and in extracurricular activities; clear career goals with detailed plans; actively engages in self-direction and self-evaluation; high level of curiosity and initiative toward new subjects; thoroughly engaged in the need to stay current; accurate assessment of personal limitations when to seek advice; skillfully accepts and uses constructive feedback.'},\n",
       " 'Information from relevant publications': {'Level 1: Beginning': 'Reads only assigned materials; is not aware of relevant publications; does not look beyond information provided in class; makes little effort to independently find additional information.  ',\n",
       "  'Level 2: Developing': 'Minimal consultation with outside materials; limited awareness of relevant publications; does not explore sources in details and often stops at first source without concern for credibility.',\n",
       "  'Level 3: Accomplished': 'Regularly goes beyond assigned materials; reasonable awareness of relevant publications; able to independently locate required information and assess credibility of sources.',\n",
       "  'Level 4: Exemplary': 'Actively seeks out additional materials; extensive knowledge of relevant publications; finds advanced information to further personal learning; thoroughly considers multiple sources with accurate assessment of both relevance and credibility.'}}"
      ]
     },
     "execution_count": 17,
     "metadata": {},
     "output_type": "execute_result"
    }
   ],
   "source": []
  },
  {
   "cell_type": "code",
   "execution_count": 20,
   "metadata": {},
   "outputs": [
    {
     "data": {
      "text/plain": [
       "{'Instructions ': {'Level 1: Beginning': 'Weak understanding; works is inaccurate and significant redirection is required. Directions are disorganized, inaccurate and incomplete.',\n",
       "  'Level 2: Developing': 'Basic understanding; main ideas are followed but missing detail. Directions are adequate but incomplete; sufficiently conveys basic concepts, but lacks accuracy and specificity. ',\n",
       "  'Level 3: Accomplished': 'Mostly understood; work is largely accurate and little redirection is required. Directions are organized and appropriate; language is clear and mostly error-free.',\n",
       "  'Level 4: Exemplary': 'Fully understood; work is focused and accurate; no redirection is  required. Directions are cohesive and easy to follow; language is concise, specific and descriptive. ',\n",
       "  'metrics': 'Instructions '},\n",
       " 'Self-awareness ': {'Level 1: Beginning': 'Not focused on studies; no clear career goals or extracurricular interests; no attempt to self-direct or self-evaluate; no curiosity or initiative toward new subjects; unaware of the need to stay current; does not recognize personal limitations and the need to seek advice; constructive feedback is not well received.',\n",
       "  'Level 2: Developing': 'Basic academic and extracurricular efforts are being put forth; vague career goals; limited self-direction and self-evaluation; minimal curiosity and initiative toward new subjects; basic awareness of the need to stay current; limited awareness of personal limitations and when to seek advice; limited ability to handle constructive feedback.',\n",
       "  'Level 3: Accomplished': 'Good academic and extracurricular efforts; clear career goals; engages in self-direction and self-evaluation; curiosity and initiative toward new subjects is evident; understands the need to stay current; aware of personal limitations and when to seek advice; constructive feedback is well received.',\n",
       "  'Level 4: Exemplary': 'Excels academically and in extracurricular activities; clear career goals with detailed plans; actively engages in self-direction and self-evaluation; high level of curiosity and initiative toward new subjects; thoroughly engaged in the need to stay current; accurate assessment of personal limitations when to seek advice; skillfully accepts and uses constructive feedback.',\n",
       "  'metrics': 'Self-awareness '},\n",
       " 'Information from relevant publications': {'Level 1: Beginning': 'Reads only assigned materials; is not aware of relevant publications; does not look beyond information provided in class; makes little effort to independently find additional information.  ',\n",
       "  'Level 2: Developing': 'Minimal consultation with outside materials; limited awareness of relevant publications; does not explore sources in details and often stops at first source without concern for credibility.',\n",
       "  'Level 3: Accomplished': 'Regularly goes beyond assigned materials; reasonable awareness of relevant publications; able to independently locate required information and assess credibility of sources.',\n",
       "  'Level 4: Exemplary': 'Actively seeks out additional materials; extensive knowledge of relevant publications; finds advanced information to further personal learning; thoroughly considers multiple sources with accurate assessment of both relevance and credibility.',\n",
       "  'metrics': 'Information from relevant publications'}}"
      ]
     },
     "execution_count": 20,
     "metadata": {},
     "output_type": "execute_result"
    }
   ],
   "source": []
  },
  {
   "cell_type": "code",
   "execution_count": 24,
   "metadata": {},
   "outputs": [],
   "source": []
  },
  {
   "cell_type": "code",
   "execution_count": 25,
   "metadata": {},
   "outputs": [
    {
     "data": {
      "text/plain": [
       "'{\"Instructions \": {\"Level 1: Beginning\": \"Weak understanding; works is inaccurate and significant redirection is required. Directions are disorganized, inaccurate and incomplete.\", \"Level 2: Developing\": \"Basic understanding; main ideas are followed but missing detail. Directions are adequate but incomplete; sufficiently conveys basic concepts, but lacks accuracy and specificity. \", \"Level 3: Accomplished\": \"Mostly understood; work is largely accurate and little redirection is required. Directions are organized and appropriate; language is clear and mostly error-free.\", \"Level 4: Exemplary\": \"Fully understood; work is focused and accurate; no redirection is  required. Directions are cohesive and easy to follow; language is concise, specific and descriptive. \", \"metrics\": \"Instructions \"}, \"Self-awareness \": {\"Level 1: Beginning\": \"Not focused on studies; no clear career goals or extracurricular interests; no attempt to self-direct or self-evaluate; no curiosity or initiative toward new subjects; unaware of the need to stay current; does not recognize personal limitations and the need to seek advice; constructive feedback is not well received.\", \"Level 2: Developing\": \"Basic academic and extracurricular efforts are being put forth; vague career goals; limited self-direction and self-evaluation; minimal curiosity and initiative toward new subjects; basic awareness of the need to stay current; limited awareness of personal limitations and when to seek advice; limited ability to handle constructive feedback.\", \"Level 3: Accomplished\": \"Good academic and extracurricular efforts; clear career goals; engages in self-direction and self-evaluation; curiosity and initiative toward new subjects is evident; understands the need to stay current; aware of personal limitations and when to seek advice; constructive feedback is well received.\", \"Level 4: Exemplary\": \"Excels academically and in extracurricular activities; clear career goals with detailed plans; actively engages in self-direction and self-evaluation; high level of curiosity and initiative toward new subjects; thoroughly engaged in the need to stay current; accurate assessment of personal limitations when to seek advice; skillfully accepts and uses constructive feedback.\", \"metrics\": \"Self-awareness \"}, \"Information from relevant publications\": {\"Level 1: Beginning\": \"Reads only assigned materials; is not aware of relevant publications; does not look beyond information provided in class; makes little effort to independently find additional information.  \", \"Level 2: Developing\": \"Minimal consultation with outside materials; limited awareness of relevant publications; does not explore sources in details and often stops at first source without concern for credibility.\", \"Level 3: Accomplished\": \"Regularly goes beyond assigned materials; reasonable awareness of relevant publications; able to independently locate required information and assess credibility of sources.\", \"Level 4: Exemplary\": \"Actively seeks out additional materials; extensive knowledge of relevant publications; finds advanced information to further personal learning; thoroughly considers multiple sources with accurate assessment of both relevance and credibility.\", \"metrics\": \"Information from relevant publications\"}}'"
      ]
     },
     "execution_count": 25,
     "metadata": {},
     "output_type": "execute_result"
    }
   ],
   "source": []
  },
  {
   "cell_type": "code",
   "execution_count": null,
   "metadata": {},
   "outputs": [],
   "source": []
  }
 ],
 "metadata": {
  "kernelspec": {
   "display_name": "Python 3",
   "language": "python",
   "name": "python3"
  },
  "language_info": {
   "codemirror_mode": {
    "name": "ipython",
    "version": 3
   },
   "file_extension": ".py",
   "mimetype": "text/x-python",
   "name": "python",
   "nbconvert_exporter": "python",
   "pygments_lexer": "ipython3",
   "version": "3.7.4"
  }
 },
 "nbformat": 4,
 "nbformat_minor": 2
}
